{
 "cells": [
  {
   "cell_type": "markdown",
   "id": "4ca13ce9",
   "metadata": {},
   "source": [
    "Exercise A"
   ]
  },
  {
   "cell_type": "code",
   "execution_count": 1,
   "id": "0793e7fe",
   "metadata": {},
   "outputs": [],
   "source": [
    "with open('part1.txt') as f:\n",
    "    data = [int(line) for line in f.read().split()]"
   ]
  },
  {
   "cell_type": "code",
   "execution_count": 2,
   "id": "6611eb1a",
   "metadata": {},
   "outputs": [
    {
     "name": "stdout",
     "output_type": "stream",
     "text": [
      "-7\n"
     ]
    }
   ],
   "source": [
    "charge = 0\n",
    "charge += sum(data)\n",
    "print(charge)"
   ]
  },
  {
   "cell_type": "markdown",
   "id": "0e6865ea",
   "metadata": {},
   "source": [
    "Exercise B"
   ]
  },
  {
   "cell_type": "code",
   "execution_count": 3,
   "id": "78fef45e",
   "metadata": {},
   "outputs": [
    {
     "name": "stdout",
     "output_type": "stream",
     "text": [
      "60\n"
     ]
    }
   ],
   "source": [
    "charge = 0\n",
    "nums = {0} #a set is more effective with memory storage and performance speed than list\n",
    "i = 0 \n",
    "while True:\n",
    "    if i == len(data):\n",
    "        i = 0            #reset indexing to repeat through input data\n",
    "    charge += data[i]\n",
    "    if charge in nums:   #nums contains unique values, so check if new charge is a duplicate\n",
    "        print(charge)\n",
    "        break\n",
    "    nums.add(charge)\n",
    "    i += 1"
   ]
  },
  {
   "cell_type": "markdown",
   "id": "5f7e9582",
   "metadata": {},
   "source": [
    "Exercise C"
   ]
  },
  {
   "cell_type": "code",
   "execution_count": 4,
   "id": "f0746d16",
   "metadata": {},
   "outputs": [],
   "source": [
    "import pandas as pd\n",
    "import matplotlib.pyplot as plt"
   ]
  },
  {
   "cell_type": "code",
   "execution_count": 5,
   "id": "ddc2a5e0",
   "metadata": {},
   "outputs": [
    {
     "data": {
      "text/html": [
       "<div>\n",
       "<style scoped>\n",
       "    .dataframe tbody tr th:only-of-type {\n",
       "        vertical-align: middle;\n",
       "    }\n",
       "\n",
       "    .dataframe tbody tr th {\n",
       "        vertical-align: top;\n",
       "    }\n",
       "\n",
       "    .dataframe thead th {\n",
       "        text-align: right;\n",
       "    }\n",
       "</style>\n",
       "<table border=\"1\" class=\"dataframe\">\n",
       "  <thead>\n",
       "    <tr style=\"text-align: right;\">\n",
       "      <th></th>\n",
       "      <th>Area code [note 2]</th>\n",
       "      <th>Area name</th>\n",
       "      <th>All persons</th>\n",
       "      <th>Females</th>\n",
       "      <th>Males</th>\n",
       "    </tr>\n",
       "  </thead>\n",
       "  <tbody>\n",
       "    <tr>\n",
       "      <th>0</th>\n",
       "      <td>K04000001</td>\n",
       "      <td>England and Wales</td>\n",
       "      <td>59597300</td>\n",
       "      <td>30420100</td>\n",
       "      <td>29177200</td>\n",
       "    </tr>\n",
       "    <tr>\n",
       "      <th>1</th>\n",
       "      <td>E92000001</td>\n",
       "      <td>England</td>\n",
       "      <td>56489800</td>\n",
       "      <td>28833500</td>\n",
       "      <td>27656300</td>\n",
       "    </tr>\n",
       "    <tr>\n",
       "      <th>2</th>\n",
       "      <td>E12000001</td>\n",
       "      <td>North East</td>\n",
       "      <td>2647100</td>\n",
       "      <td>1353800</td>\n",
       "      <td>1293300</td>\n",
       "    </tr>\n",
       "    <tr>\n",
       "      <th>3</th>\n",
       "      <td>E06000047</td>\n",
       "      <td>County Durham</td>\n",
       "      <td>522100</td>\n",
       "      <td>266800</td>\n",
       "      <td>255300</td>\n",
       "    </tr>\n",
       "    <tr>\n",
       "      <th>4</th>\n",
       "      <td>E06000005</td>\n",
       "      <td>Darlington</td>\n",
       "      <td>107800</td>\n",
       "      <td>55100</td>\n",
       "      <td>52700</td>\n",
       "    </tr>\n",
       "  </tbody>\n",
       "</table>\n",
       "</div>"
      ],
      "text/plain": [
       "  Area code [note 2]          Area name  All persons   Females     Males\n",
       "0          K04000001  England and Wales     59597300  30420100  29177200\n",
       "1          E92000001            England     56489800  28833500  27656300\n",
       "2          E12000001         North East      2647100   1353800   1293300\n",
       "3          E06000047      County Durham       522100    266800    255300\n",
       "4          E06000005         Darlington       107800     55100     52700"
      ]
     },
     "execution_count": 5,
     "metadata": {},
     "output_type": "execute_result"
    }
   ],
   "source": [
    "#Select 'P01' sheet and removing unnecessary rows\n",
    "df = pd.read_excel(r'census2021firstresultsenglandwales1.xlsx', 'P01',\n",
    "                  header = 0, skiprows = [0,1,2,3,4,5]) \n",
    "df.head()"
   ]
  },
  {
   "cell_type": "code",
   "execution_count": 6,
   "id": "44c4cbe4",
   "metadata": {},
   "outputs": [],
   "source": [
    "exclude = []   #Exclude regions larger than local authorities\n",
    "\n",
    "#Area code starts with a letter and then 1 for non-local authorities\n",
    "for x in df['Area code [note 2]']:  \n",
    "    if x[1] >= \"1\":        \n",
    "        exclude.append(x)\n",
    "        \n",
    "exclude.append('K04000001') #manually removing England and Wales"
   ]
  },
  {
   "cell_type": "code",
   "execution_count": 7,
   "id": "a81ef218",
   "metadata": {},
   "outputs": [
    {
     "data": {
      "text/plain": [
       "Text(0, 0.5, 'Frequency')"
      ]
     },
     "execution_count": 7,
     "metadata": {},
     "output_type": "execute_result"
    },
    {
     "data": {
      "image/png": "[encoded data removed]",
      "text/plain": [
       "<Figure size 432x288 with 1 Axes>"
      ]
     },
     "metadata": {
      "needs_background": "light"
     },
     "output_type": "display_data"
    }
   ],
   "source": [
    "locauth = df[~df['Area code [note 2]'].isin(exclude)] #remove the aforementioned regional data\n",
    "locauth\n",
    "\n",
    "#Visualisation\n",
    "plt.hist(locauth[\"All persons\"]/1e5) #to readjust scale to hundred thousands\n",
    "plt.title(\"Total Usual Resident Population Across All UK Local Authorities\")\n",
    "plt.xlabel(\"Population (hundred thousands)\")\n",
    "plt.ylabel(\"Frequency\")\n",
    "####Does not seem normally distributed, more like right skewed"
   ]
  },
  {
   "cell_type": "markdown",
   "id": "9df0f8da",
   "metadata": {},
   "source": [
    "Exercise D"
   ]
  },
  {
   "cell_type": "code",
   "execution_count": 8,
   "id": "33e92dd0",
   "metadata": {},
   "outputs": [
    {
     "data": {
      "text/html": [
       "<div>\n",
       "<style scoped>\n",
       "    .dataframe tbody tr th:only-of-type {\n",
       "        vertical-align: middle;\n",
       "    }\n",
       "\n",
       "    .dataframe tbody tr th {\n",
       "        vertical-align: top;\n",
       "    }\n",
       "\n",
       "    .dataframe thead th {\n",
       "        text-align: right;\n",
       "    }\n",
       "</style>\n",
       "<table border=\"1\" class=\"dataframe\">\n",
       "  <thead>\n",
       "    <tr style=\"text-align: right;\">\n",
       "      <th></th>\n",
       "      <th>Area code [note 2]</th>\n",
       "      <th>Area name</th>\n",
       "      <th>All persons</th>\n",
       "      <th>Females:\\nAged 4 years and under\\n[note 12]</th>\n",
       "      <th>Females:\\nAged 5 to 9 years\\n[note 12]</th>\n",
       "      <th>Females:\\nAged 10 to 14 years\\n[note 12]</th>\n",
       "      <th>Females:\\nAged 15 to 19 years\\n[note 12]</th>\n",
       "      <th>Females:\\nAged 20 to 24 years\\n[note 12]</th>\n",
       "      <th>Females:\\nAged 25 to 29 years\\n[note 12]</th>\n",
       "      <th>Females:\\nAged 30 to 34 years\\n[note 12]</th>\n",
       "      <th>...</th>\n",
       "      <th>Males:\\nAged 45 to 49 years\\n[note 12]</th>\n",
       "      <th>Males:\\nAged 50 to 54 years\\n[note 12]</th>\n",
       "      <th>Males:\\nAged 55 to 59 years\\n[note 12]</th>\n",
       "      <th>Males:\\nAged 60 to 64 years\\n[note 12]</th>\n",
       "      <th>Males:\\nAged 65 to 69 years\\n[note 12]</th>\n",
       "      <th>Males:\\nAged 70 to 74 years\\n[note 12]</th>\n",
       "      <th>Males:\\nAged 75 to 79 years\\n[note 12]</th>\n",
       "      <th>Males:\\nAged 80 to 84 years\\n[note 12]</th>\n",
       "      <th>Males:\\nAged 85 to 89 years\\n[note 12]</th>\n",
       "      <th>Males:\\nAged 90 years and over\\n[note 12]</th>\n",
       "    </tr>\n",
       "  </thead>\n",
       "  <tbody>\n",
       "    <tr>\n",
       "      <th>0</th>\n",
       "      <td>K04000001</td>\n",
       "      <td>England and Wales</td>\n",
       "      <td>59597300</td>\n",
       "      <td>1577300</td>\n",
       "      <td>1720400</td>\n",
       "      <td>1753100</td>\n",
       "      <td>1653100</td>\n",
       "      <td>1793300</td>\n",
       "      <td>1991900</td>\n",
       "      <td>2145200</td>\n",
       "      <td>...</td>\n",
       "      <td>1867900</td>\n",
       "      <td>2027500</td>\n",
       "      <td>1978300</td>\n",
       "      <td>1699600</td>\n",
       "      <td>1428200</td>\n",
       "      <td>1419500</td>\n",
       "      <td>1008900</td>\n",
       "      <td>668200</td>\n",
       "      <td>372700</td>\n",
       "      <td>169200</td>\n",
       "    </tr>\n",
       "    <tr>\n",
       "      <th>1</th>\n",
       "      <td>E92000001</td>\n",
       "      <td>England</td>\n",
       "      <td>56489800</td>\n",
       "      <td>1501600</td>\n",
       "      <td>1634400</td>\n",
       "      <td>1664100</td>\n",
       "      <td>1568100</td>\n",
       "      <td>1701500</td>\n",
       "      <td>1897400</td>\n",
       "      <td>2044400</td>\n",
       "      <td>...</td>\n",
       "      <td>1777100</td>\n",
       "      <td>1922800</td>\n",
       "      <td>1869600</td>\n",
       "      <td>1602000</td>\n",
       "      <td>1341900</td>\n",
       "      <td>1331800</td>\n",
       "      <td>947200</td>\n",
       "      <td>628600</td>\n",
       "      <td>351400</td>\n",
       "      <td>159800</td>\n",
       "    </tr>\n",
       "    <tr>\n",
       "      <th>2</th>\n",
       "      <td>E12000001</td>\n",
       "      <td>North East</td>\n",
       "      <td>2647100</td>\n",
       "      <td>65600</td>\n",
       "      <td>73000</td>\n",
       "      <td>75300</td>\n",
       "      <td>73600</td>\n",
       "      <td>80500</td>\n",
       "      <td>81800</td>\n",
       "      <td>87100</td>\n",
       "      <td>...</td>\n",
       "      <td>77800</td>\n",
       "      <td>89600</td>\n",
       "      <td>94100</td>\n",
       "      <td>85600</td>\n",
       "      <td>74200</td>\n",
       "      <td>71100</td>\n",
       "      <td>47300</td>\n",
       "      <td>31800</td>\n",
       "      <td>17100</td>\n",
       "      <td>7100</td>\n",
       "    </tr>\n",
       "    <tr>\n",
       "      <th>3</th>\n",
       "      <td>E06000047</td>\n",
       "      <td>County Durham</td>\n",
       "      <td>522100</td>\n",
       "      <td>12000</td>\n",
       "      <td>13800</td>\n",
       "      <td>14400</td>\n",
       "      <td>15300</td>\n",
       "      <td>16400</td>\n",
       "      <td>15000</td>\n",
       "      <td>16000</td>\n",
       "      <td>...</td>\n",
       "      <td>15400</td>\n",
       "      <td>18600</td>\n",
       "      <td>19500</td>\n",
       "      <td>17200</td>\n",
       "      <td>15400</td>\n",
       "      <td>14800</td>\n",
       "      <td>10300</td>\n",
       "      <td>6700</td>\n",
       "      <td>3400</td>\n",
       "      <td>1400</td>\n",
       "    </tr>\n",
       "    <tr>\n",
       "      <th>4</th>\n",
       "      <td>E06000005</td>\n",
       "      <td>Darlington</td>\n",
       "      <td>107800</td>\n",
       "      <td>2700</td>\n",
       "      <td>3000</td>\n",
       "      <td>3300</td>\n",
       "      <td>2800</td>\n",
       "      <td>2800</td>\n",
       "      <td>3300</td>\n",
       "      <td>3600</td>\n",
       "      <td>...</td>\n",
       "      <td>3300</td>\n",
       "      <td>3800</td>\n",
       "      <td>3900</td>\n",
       "      <td>3400</td>\n",
       "      <td>3000</td>\n",
       "      <td>2800</td>\n",
       "      <td>2000</td>\n",
       "      <td>1400</td>\n",
       "      <td>800</td>\n",
       "      <td>300</td>\n",
       "    </tr>\n",
       "  </tbody>\n",
       "</table>\n",
       "<p>5 rows × 41 columns</p>\n",
       "</div>"
      ],
      "text/plain": [
       "  Area code [note 2]          Area name  All persons  \\\n",
       "0          K04000001  England and Wales     59597300   \n",
       "1          E92000001            England     56489800   \n",
       "2          E12000001         North East      2647100   \n",
       "3          E06000047      County Durham       522100   \n",
       "4          E06000005         Darlington       107800   \n",
       "\n",
       "   Females:\\nAged 4 years and under\\n[note 12]  \\\n",
       "0                                      1577300   \n",
       "1                                      1501600   \n",
       "2                                        65600   \n",
       "3                                        12000   \n",
       "4                                         2700   \n",
       "\n",
       "   Females:\\nAged 5 to 9 years\\n[note 12]  \\\n",
       "0                                 1720400   \n",
       "1                                 1634400   \n",
       "2                                   73000   \n",
       "3                                   13800   \n",
       "4                                    3000   \n",
       "\n",
       "   Females:\\nAged 10 to 14 years\\n[note 12]  \\\n",
       "0                                   1753100   \n",
       "1                                   1664100   \n",
       "2                                     75300   \n",
       "3                                     14400   \n",
       "4                                      3300   \n",
       "\n",
       "   Females:\\nAged 15 to 19 years\\n[note 12]  \\\n",
       "0                                   1653100   \n",
       "1                                   1568100   \n",
       "2                                     73600   \n",
       "3                                     15300   \n",
       "4                                      2800   \n",
       "\n",
       "   Females:\\nAged 20 to 24 years\\n[note 12]  \\\n",
       "0                                   1793300   \n",
       "1                                   1701500   \n",
       "2                                     80500   \n",
       "3                                     16400   \n",
       "4                                      2800   \n",
       "\n",
       "   Females:\\nAged 25 to 29 years\\n[note 12]  \\\n",
       "0                                   1991900   \n",
       "1                                   1897400   \n",
       "2                                     81800   \n",
       "3                                     15000   \n",
       "4                                      3300   \n",
       "\n",
       "   Females:\\nAged 30 to 34 years\\n[note 12]  ...  \\\n",
       "0                                   2145200  ...   \n",
       "1                                   2044400  ...   \n",
       "2                                     87100  ...   \n",
       "3                                     16000  ...   \n",
       "4                                      3600  ...   \n",
       "\n",
       "   Males:\\nAged 45 to 49 years\\n[note 12]  \\\n",
       "0                                 1867900   \n",
       "1                                 1777100   \n",
       "2                                   77800   \n",
       "3                                   15400   \n",
       "4                                    3300   \n",
       "\n",
       "   Males:\\nAged 50 to 54 years\\n[note 12]  \\\n",
       "0                                 2027500   \n",
       "1                                 1922800   \n",
       "2                                   89600   \n",
       "3                                   18600   \n",
       "4                                    3800   \n",
       "\n",
       "   Males:\\nAged 55 to 59 years\\n[note 12]  \\\n",
       "0                                 1978300   \n",
       "1                                 1869600   \n",
       "2                                   94100   \n",
       "3                                   19500   \n",
       "4                                    3900   \n",
       "\n",
       "   Males:\\nAged 60 to 64 years\\n[note 12]  \\\n",
       "0                                 1699600   \n",
       "1                                 1602000   \n",
       "2                                   85600   \n",
       "3                                   17200   \n",
       "4                                    3400   \n",
       "\n",
       "   Males:\\nAged 65 to 69 years\\n[note 12]  \\\n",
       "0                                 1428200   \n",
       "1                                 1341900   \n",
       "2                                   74200   \n",
       "3                                   15400   \n",
       "4                                    3000   \n",
       "\n",
       "   Males:\\nAged 70 to 74 years\\n[note 12]  \\\n",
       "0                                 1419500   \n",
       "1                                 1331800   \n",
       "2                                   71100   \n",
       "3                                   14800   \n",
       "4                                    2800   \n",
       "\n",
       "   Males:\\nAged 75 to 79 years\\n[note 12]  \\\n",
       "0                                 1008900   \n",
       "1                                  947200   \n",
       "2                                   47300   \n",
       "3                                   10300   \n",
       "4                                    2000   \n",
       "\n",
       "   Males:\\nAged 80 to 84 years\\n[note 12]  \\\n",
       "0                                  668200   \n",
       "1                                  628600   \n",
       "2                                   31800   \n",
       "3                                    6700   \n",
       "4                                    1400   \n",
       "\n",
       "   Males:\\nAged 85 to 89 years\\n[note 12]  \\\n",
       "0                                  372700   \n",
       "1                                  351400   \n",
       "2                                   17100   \n",
       "3                                    3400   \n",
       "4                                     800   \n",
       "\n",
       "   Males:\\nAged 90 years and over\\n[note 12]  \n",
       "0                                     169200  \n",
       "1                                     159800  \n",
       "2                                       7100  \n",
       "3                                       1400  \n",
       "4                                        300  \n",
       "\n",
       "[5 rows x 41 columns]"
      ]
     },
     "execution_count": 8,
     "metadata": {},
     "output_type": "execute_result"
    }
   ],
   "source": [
    "#Select 'P01' sheet and removing unnecessary rows\n",
    "df = pd.read_excel(r'census2021firstresultsenglandwales1.xlsx', 'P03',\n",
    "                  header = 0, skiprows = [0,1,2,3,4,5,6]) \n",
    "df.head()"
   ]
  },
  {
   "cell_type": "code",
   "execution_count": 9,
   "id": "86948e47",
   "metadata": {},
   "outputs": [
    {
     "data": {
      "text/html": [
       "<div>\n",
       "<style scoped>\n",
       "    .dataframe tbody tr th:only-of-type {\n",
       "        vertical-align: middle;\n",
       "    }\n",
       "\n",
       "    .dataframe tbody tr th {\n",
       "        vertical-align: top;\n",
       "    }\n",
       "\n",
       "    .dataframe thead th {\n",
       "        text-align: right;\n",
       "    }\n",
       "</style>\n",
       "<table border=\"1\" class=\"dataframe\">\n",
       "  <thead>\n",
       "    <tr style=\"text-align: right;\">\n",
       "      <th></th>\n",
       "      <th>Area code [note 2]</th>\n",
       "      <th>Area name</th>\n",
       "      <th>All persons</th>\n",
       "      <th>Females:\\nAged 4 years and under\\n[note 12]</th>\n",
       "      <th>Females:\\nAged 5 to 9 years\\n[note 12]</th>\n",
       "      <th>Females:\\nAged 10 to 14 years\\n[note 12]</th>\n",
       "      <th>Females:\\nAged 15 to 19 years\\n[note 12]</th>\n",
       "      <th>Females:\\nAged 20 to 24 years\\n[note 12]</th>\n",
       "      <th>Females:\\nAged 25 to 29 years\\n[note 12]</th>\n",
       "      <th>Females:\\nAged 30 to 34 years\\n[note 12]</th>\n",
       "      <th>...</th>\n",
       "      <th>Males:\\nAged 45 to 49 years\\n[note 12]</th>\n",
       "      <th>Males:\\nAged 50 to 54 years\\n[note 12]</th>\n",
       "      <th>Males:\\nAged 55 to 59 years\\n[note 12]</th>\n",
       "      <th>Males:\\nAged 60 to 64 years\\n[note 12]</th>\n",
       "      <th>Males:\\nAged 65 to 69 years\\n[note 12]</th>\n",
       "      <th>Males:\\nAged 70 to 74 years\\n[note 12]</th>\n",
       "      <th>Males:\\nAged 75 to 79 years\\n[note 12]</th>\n",
       "      <th>Males:\\nAged 80 to 84 years\\n[note 12]</th>\n",
       "      <th>Males:\\nAged 85 to 89 years\\n[note 12]</th>\n",
       "      <th>Males:\\nAged 90 years and over\\n[note 12]</th>\n",
       "    </tr>\n",
       "  </thead>\n",
       "  <tbody>\n",
       "    <tr>\n",
       "      <th>220</th>\n",
       "      <td>E09000022</td>\n",
       "      <td>Lambeth</td>\n",
       "      <td>317600</td>\n",
       "      <td>7500</td>\n",
       "      <td>7300</td>\n",
       "      <td>7500</td>\n",
       "      <td>7500</td>\n",
       "      <td>14500</td>\n",
       "      <td>24000</td>\n",
       "      <td>18600</td>\n",
       "      <td>...</td>\n",
       "      <td>10100</td>\n",
       "      <td>10100</td>\n",
       "      <td>8700</td>\n",
       "      <td>6300</td>\n",
       "      <td>4200</td>\n",
       "      <td>3300</td>\n",
       "      <td>2000</td>\n",
       "      <td>1500</td>\n",
       "      <td>800</td>\n",
       "      <td>400</td>\n",
       "    </tr>\n",
       "  </tbody>\n",
       "</table>\n",
       "<p>1 rows × 41 columns</p>\n",
       "</div>"
      ],
      "text/plain": [
       "    Area code [note 2] Area name  All persons  \\\n",
       "220          E09000022   Lambeth       317600   \n",
       "\n",
       "     Females:\\nAged 4 years and under\\n[note 12]  \\\n",
       "220                                         7500   \n",
       "\n",
       "     Females:\\nAged 5 to 9 years\\n[note 12]  \\\n",
       "220                                    7300   \n",
       "\n",
       "     Females:\\nAged 10 to 14 years\\n[note 12]  \\\n",
       "220                                      7500   \n",
       "\n",
       "     Females:\\nAged 15 to 19 years\\n[note 12]  \\\n",
       "220                                      7500   \n",
       "\n",
       "     Females:\\nAged 20 to 24 years\\n[note 12]  \\\n",
       "220                                     14500   \n",
       "\n",
       "     Females:\\nAged 25 to 29 years\\n[note 12]  \\\n",
       "220                                     24000   \n",
       "\n",
       "     Females:\\nAged 30 to 34 years\\n[note 12]  ...  \\\n",
       "220                                     18600  ...   \n",
       "\n",
       "     Males:\\nAged 45 to 49 years\\n[note 12]  \\\n",
       "220                                   10100   \n",
       "\n",
       "     Males:\\nAged 50 to 54 years\\n[note 12]  \\\n",
       "220                                   10100   \n",
       "\n",
       "     Males:\\nAged 55 to 59 years\\n[note 12]  \\\n",
       "220                                    8700   \n",
       "\n",
       "     Males:\\nAged 60 to 64 years\\n[note 12]  \\\n",
       "220                                    6300   \n",
       "\n",
       "     Males:\\nAged 65 to 69 years\\n[note 12]  \\\n",
       "220                                    4200   \n",
       "\n",
       "     Males:\\nAged 70 to 74 years\\n[note 12]  \\\n",
       "220                                    3300   \n",
       "\n",
       "     Males:\\nAged 75 to 79 years\\n[note 12]  \\\n",
       "220                                    2000   \n",
       "\n",
       "     Males:\\nAged 80 to 84 years\\n[note 12]  \\\n",
       "220                                    1500   \n",
       "\n",
       "     Males:\\nAged 85 to 89 years\\n[note 12]  \\\n",
       "220                                     800   \n",
       "\n",
       "     Males:\\nAged 90 years and over\\n[note 12]  \n",
       "220                                        400  \n",
       "\n",
       "[1 rows x 41 columns]"
      ]
     },
     "execution_count": 9,
     "metadata": {},
     "output_type": "execute_result"
    }
   ],
   "source": [
    "#select Lambeth data\n",
    "lam = df.loc[df['Area name'] == 'Lambeth']\n",
    "lam"
   ]
  },
  {
   "cell_type": "code",
   "execution_count": 10,
   "id": "28acb6f5",
   "metadata": {},
   "outputs": [
    {
     "data": {
      "text/plain": [
       "Text(0, 0.5, 'Frequency')"
      ]
     },
     "execution_count": 10,
     "metadata": {},
     "output_type": "execute_result"
    },
    {
     "data": {
      "image/png": "[encoded data removed]",
      "text/plain": [
       "<Figure size 432x288 with 1 Axes>"
      ]
     },
     "metadata": {
      "needs_background": "light"
     },
     "output_type": "display_data"
    }
   ],
   "source": [
    "#Transpose first, then plot histogram of all the groups\n",
    "lam.iloc[:,3:].T.hist()\n",
    "plt.title(\"Population by Five-year Age Bands and Sex in Lambeth\")\n",
    "plt.xlabel(\"Population\")\n",
    "plt.ylabel(\"Frequency\")"
   ]
  },
  {
   "cell_type": "markdown",
   "id": "78430690",
   "metadata": {},
   "source": [
    "Exercise E"
   ]
  },
  {
   "cell_type": "code",
   "execution_count": 11,
   "id": "f024c88a",
   "metadata": {},
   "outputs": [
    {
     "ename": "ModuleNotFoundError",
     "evalue": "No module named 'statsmodels.tools'",
     "output_type": "error",
     "traceback": [
      "\u001b[1;31m---------------------------------------------------------------------------\u001b[0m",
      "\u001b[1;31mModuleNotFoundError\u001b[0m                       Traceback (most recent call last)",
      "Input \u001b[1;32mIn [11]\u001b[0m, in \u001b[0;36m<cell line: 7>\u001b[1;34m()\u001b[0m\n\u001b[0;32m      5\u001b[0m \u001b[38;5;28;01mfrom\u001b[39;00m \u001b[38;5;21;01msklearn\u001b[39;00m \u001b[38;5;28;01mimport\u001b[39;00m metrics\n\u001b[0;32m      6\u001b[0m \u001b[38;5;28;01mimport\u001b[39;00m \u001b[38;5;21;01mnumpy\u001b[39;00m \u001b[38;5;28;01mas\u001b[39;00m \u001b[38;5;21;01mnp\u001b[39;00m\n\u001b[1;32m----> 7\u001b[0m \u001b[38;5;28;01mimport\u001b[39;00m \u001b[38;5;21;01mstatsmodels\u001b[39;00m\u001b[38;5;21;01m.\u001b[39;00m\u001b[38;5;21;01mapi\u001b[39;00m \u001b[38;5;28;01mas\u001b[39;00m \u001b[38;5;21;01msm\u001b[39;00m\n\u001b[0;32m      8\u001b[0m \u001b[38;5;28;01mimport\u001b[39;00m \u001b[38;5;21;01mpylab\u001b[39;00m\n",
      "File \u001b[1;32m~\\AppData\\Roaming\\Python\\Python38\\site-packages\\statsmodels\\__init__.py:10\u001b[0m, in \u001b[0;36m<module>\u001b[1;34m\u001b[0m\n\u001b[0;32m      7\u001b[0m \u001b[38;5;28;01mimport\u001b[39;00m \u001b[38;5;21;01msys\u001b[39;00m\n\u001b[0;32m      9\u001b[0m \u001b[38;5;28;01mfrom\u001b[39;00m \u001b[38;5;21;01mwarnings\u001b[39;00m \u001b[38;5;28;01mimport\u001b[39;00m simplefilter\n\u001b[1;32m---> 10\u001b[0m \u001b[38;5;28;01mfrom\u001b[39;00m \u001b[38;5;21;01mstatsmodels\u001b[39;00m\u001b[38;5;21;01m.\u001b[39;00m\u001b[38;5;21;01mtools\u001b[39;00m\u001b[38;5;21;01m.\u001b[39;00m\u001b[38;5;21;01msm_exceptions\u001b[39;00m \u001b[38;5;28;01mimport\u001b[39;00m (ConvergenceWarning, CacheWriteWarning,\n\u001b[0;32m     11\u001b[0m                                              IterationLimitWarning, InvalidTestWarning)\n\u001b[0;32m     13\u001b[0m simplefilter(\u001b[38;5;124m\"\u001b[39m\u001b[38;5;124malways\u001b[39m\u001b[38;5;124m\"\u001b[39m, (ConvergenceWarning, CacheWriteWarning,\n\u001b[0;32m     14\u001b[0m                         IterationLimitWarning, InvalidTestWarning))\n\u001b[0;32m     16\u001b[0m debug_warnings \u001b[38;5;241m=\u001b[39m \u001b[38;5;28;01mFalse\u001b[39;00m\n",
      "\u001b[1;31mModuleNotFoundError\u001b[0m: No module named 'statsmodels.tools'"
     ]
    }
   ],
   "source": [
    "from sklearn.preprocessing import StandardScaler\n",
    "from sklearn.model_selection import train_test_split\n",
    "from sklearn.pipeline import make_pipeline\n",
    "from sklearn.linear_model import LinearRegression\n",
    "from sklearn import metrics\n",
    "import numpy as np\n",
    "import statsmodels.api as sm\n",
    "import pylab"
   ]
  },
  {
   "cell_type": "code",
   "execution_count": 12,
   "id": "5b5e6e27",
   "metadata": {},
   "outputs": [
    {
     "name": "stderr",
     "output_type": "stream",
     "text": [
      "C:\\Users\\james\\anaconda3\\envs\\ML\\lib\\site-packages\\openpyxl\\styles\\stylesheet.py:226: UserWarning: Workbook contains no default style, apply openpyxl's default\n",
      "  warn(\"Workbook contains no default style, apply openpyxl's default\")\n"
     ]
    },
    {
     "data": {
      "text/html": [
       "<div>\n",
       "<style scoped>\n",
       "    .dataframe tbody tr th:only-of-type {\n",
       "        vertical-align: middle;\n",
       "    }\n",
       "\n",
       "    .dataframe tbody tr th {\n",
       "        vertical-align: top;\n",
       "    }\n",
       "\n",
       "    .dataframe thead th {\n",
       "        text-align: right;\n",
       "    }\n",
       "</style>\n",
       "<table border=\"1\" class=\"dataframe\">\n",
       "  <thead>\n",
       "    <tr style=\"text-align: right;\">\n",
       "      <th></th>\n",
       "      <th>CDID</th>\n",
       "      <th>SCPOP</th>\n",
       "      <th>GBPOP</th>\n",
       "      <th>ENPOP</th>\n",
       "      <th>UKPOP</th>\n",
       "      <th>EWPOP</th>\n",
       "      <th>NIPOP</th>\n",
       "      <th>WAPOP</th>\n",
       "    </tr>\n",
       "  </thead>\n",
       "  <tbody>\n",
       "    <tr>\n",
       "      <th>0</th>\n",
       "      <td>1971</td>\n",
       "      <td>5235600</td>\n",
       "      <td>54387600</td>\n",
       "      <td>46411700</td>\n",
       "      <td>55928000</td>\n",
       "      <td>49152000</td>\n",
       "      <td>1540400</td>\n",
       "      <td>2740300</td>\n",
       "    </tr>\n",
       "    <tr>\n",
       "      <th>1</th>\n",
       "      <td>1972</td>\n",
       "      <td>5230600</td>\n",
       "      <td>54557700</td>\n",
       "      <td>46571900</td>\n",
       "      <td>56096700</td>\n",
       "      <td>49327100</td>\n",
       "      <td>1539000</td>\n",
       "      <td>2755200</td>\n",
       "    </tr>\n",
       "    <tr>\n",
       "      <th>2</th>\n",
       "      <td>1973</td>\n",
       "      <td>5233900</td>\n",
       "      <td>54692900</td>\n",
       "      <td>46686200</td>\n",
       "      <td>56222900</td>\n",
       "      <td>49459000</td>\n",
       "      <td>1530000</td>\n",
       "      <td>2772800</td>\n",
       "    </tr>\n",
       "    <tr>\n",
       "      <th>3</th>\n",
       "      <td>1974</td>\n",
       "      <td>5240800</td>\n",
       "      <td>54708700</td>\n",
       "      <td>46682700</td>\n",
       "      <td>56235600</td>\n",
       "      <td>49467900</td>\n",
       "      <td>1526900</td>\n",
       "      <td>2785200</td>\n",
       "    </tr>\n",
       "    <tr>\n",
       "      <th>4</th>\n",
       "      <td>1975</td>\n",
       "      <td>5232400</td>\n",
       "      <td>54702200</td>\n",
       "      <td>46674400</td>\n",
       "      <td>56225700</td>\n",
       "      <td>49469800</td>\n",
       "      <td>1523500</td>\n",
       "      <td>2795400</td>\n",
       "    </tr>\n",
       "  </tbody>\n",
       "</table>\n",
       "</div>"
      ],
      "text/plain": [
       "   CDID    SCPOP     GBPOP     ENPOP     UKPOP     EWPOP    NIPOP    WAPOP\n",
       "0  1971  5235600  54387600  46411700  55928000  49152000  1540400  2740300\n",
       "1  1972  5230600  54557700  46571900  56096700  49327100  1539000  2755200\n",
       "2  1973  5233900  54692900  46686200  56222900  49459000  1530000  2772800\n",
       "3  1974  5240800  54708700  46682700  56235600  49467900  1526900  2785200\n",
       "4  1975  5232400  54702200  46674400  56225700  49469800  1523500  2795400"
      ]
     },
     "execution_count": 12,
     "metadata": {},
     "output_type": "execute_result"
    }
   ],
   "source": [
    "#Read in time-series data\n",
    "\n",
    "df = pd.read_excel(r'pop.xlsx', skiprows = [0,2,3,4,5,6]) #Skip irrelevant lines\n",
    "df = df.astype(int) #convert values to integers\n",
    "df.head()"
   ]
  },
  {
   "cell_type": "code",
   "execution_count": 13,
   "id": "cfdbc278",
   "metadata": {},
   "outputs": [],
   "source": [
    "X = df[\"CDID\"].values.reshape(-1,1)  #convert year column to numpy array\n",
    "y = df[\"ENPOP\"].values.reshape(-1,1) #convert population column to numpy array\n",
    "#Tried scaling, didn't seem to work\n",
    "#scaler= StandardScaler()  \n",
    "#X=df[\"CDID\"].values\n",
    "#X= scaler.fit_transform(X)\n",
    "#y=df[\"ENPOP\"].values\n",
    "#y= scaler.fit_transform(y)\n",
    "\n",
    "X_train, X_test, y_train, y_test = train_test_split(X, y, test_size=0.33, random_state=42)\n",
    "\n",
    "#p = np.polyfit(X, np.log(y), 1)  ###Seems to create a linear prediction? Decided not to use\n",
    "\n",
    "#Transform year to year^2 in attempt to linearize data\n",
    "model = LinearRegression().fit(X_train**2, y_train) \n",
    "slope = model.coef_\n",
    "intercept = model.intercept_\n",
    "\n",
    "y_fit = intercept +(slope * X_train **2) #manually write out model linear equation"
   ]
  },
  {
   "cell_type": "code",
   "execution_count": 15,
   "id": "d21bb02b",
   "metadata": {},
   "outputs": [
    {
     "data": {
      "text/plain": [
       "0.8931989800939153"
      ]
     },
     "execution_count": 15,
     "metadata": {},
     "output_type": "execute_result"
    }
   ],
   "source": [
    "model.score(X_test**2, y_test)  #Assess score of regression line"
   ]
  },
  {
   "cell_type": "code",
   "execution_count": 17,
   "id": "1023a567",
   "metadata": {},
   "outputs": [],
   "source": [
    "#From when I tried polyfit\n",
    "#y_pred = a * np.exp(b*2030)\n",
    "\n",
    "#Predicted Population in 2030 \n",
    "y_pred = intercept +(slope * 2030 **2) "
   ]
  },
  {
   "cell_type": "code",
   "execution_count": 18,
   "id": "83319351",
   "metadata": {},
   "outputs": [
    {
     "data": {
      "text/plain": [
       "Text(0, 0.5, 'Population (millions)')"
      ]
     },
     "execution_count": 18,
     "metadata": {},
     "output_type": "execute_result"
    },
    {
     "data": {
      "image/png": "[encoded data removed]",
      "text/plain": [
       "<Figure size 432x288 with 1 Axes>"
      ]
     },
     "metadata": {
      "needs_background": "light"
     },
     "output_type": "display_data"
    }
   ],
   "source": [
    "plt.scatter(X, y/1e6, marker=\"o\", linewidth=0) #to readjust scale to millions\n",
    "\n",
    "plt.plot(X_train, y_fit/1e6, 'k', label=r'Fitted curve')\n",
    "plt.scatter([2030], y_pred/1e6, marker=\"o\", linewidth=0)\n",
    "plt.title(\"England Population 1970-2020\")\n",
    "plt.xlabel(\"Year\")\n",
    "plt.ylabel(\"Population (millions)\")\n",
    "##Not the best regression, but curve_fit, polyfit, and natural log transformations also were \n",
    "##not working well"
   ]
  }
 ],
 "metadata": {
  "kernelspec": {
   "display_name": "Python 3 (ipykernel)",
   "language": "python",
   "name": "python3"
  },
  "language_info": {
   "codemirror_mode": {
    "name": "ipython",
    "version": 3
   },
   "file_extension": ".py",
   "mimetype": "text/x-python",
   "name": "python",
   "nbconvert_exporter": "python",
   "pygments_lexer": "ipython3",
   "version": "3.8.13"
  }
 },
 "nbformat": 4,
 "nbformat_minor": 5
}
