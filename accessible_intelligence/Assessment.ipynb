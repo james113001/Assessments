{
 "cells": [
  {
   "cell_type": "markdown",
   "id": "6bc2dd49",
   "metadata": {},
   "source": [
    "# 1\n",
    "Find all unique broadcasts in sends.csv. These represent an email or campaign sent to supporters. Use these broadcast identifiers and analyse the transactions data (march.csv,april.csv,may.csv) for these broadcasts. Remember Broadcast Id ↔ Activity Id.\n",
    "\n",
    "Produce some summary statistics (numbers/timing) and visualisations to represent the numbers/types of transactions for individual broadcasts as well as looking across multiple broadcasts.\n",
    "Note – The sends data represents email sent in March but transactions based on these sends can\n",
    "happen in later months."
   ]
  },
  {
   "cell_type": "markdown",
   "id": "dd863cb8",
   "metadata": {},
   "source": [
    "#### Import + clean data"
   ]
  },
  {
   "cell_type": "code",
   "execution_count": 1,
   "id": "f57f67d4",
   "metadata": {},
   "outputs": [],
   "source": [
    "import pandas as pd\n",
    "import matplotlib.pyplot as plt\n",
    "import matplotlib.dates\n",
    "import matplotlib.patches as mpatches\n",
    "import numpy as np"
   ]
  },
  {
   "cell_type": "code",
   "execution_count": 2,
   "id": "b2cfe225",
   "metadata": {},
   "outputs": [
    {
     "data": {
      "text/html": [
       "<div>\n",
       "<style scoped>\n",
       "    .dataframe tbody tr th:only-of-type {\n",
       "        vertical-align: middle;\n",
       "    }\n",
       "\n",
       "    .dataframe tbody tr th {\n",
       "        vertical-align: top;\n",
       "    }\n",
       "\n",
       "    .dataframe thead th {\n",
       "        text-align: right;\n",
       "    }\n",
       "</style>\n",
       "<table border=\"1\" class=\"dataframe\">\n",
       "  <thead>\n",
       "    <tr style=\"text-align: right;\">\n",
       "      <th></th>\n",
       "      <th>CAMPAIGNER_ID</th>\n",
       "      <th>BROADCAST_ID</th>\n",
       "    </tr>\n",
       "  </thead>\n",
       "  <tbody>\n",
       "    <tr>\n",
       "      <th>0</th>\n",
       "      <td>qMPJbluhCXQ=</td>\n",
       "      <td>158828</td>\n",
       "    </tr>\n",
       "    <tr>\n",
       "      <th>1</th>\n",
       "      <td>BDoflNnPHog=</td>\n",
       "      <td>154395</td>\n",
       "    </tr>\n",
       "    <tr>\n",
       "      <th>2</th>\n",
       "      <td>BDoflNnPHog=</td>\n",
       "      <td>157751</td>\n",
       "    </tr>\n",
       "    <tr>\n",
       "      <th>3</th>\n",
       "      <td>BDoflNnPHog=</td>\n",
       "      <td>158310</td>\n",
       "    </tr>\n",
       "    <tr>\n",
       "      <th>4</th>\n",
       "      <td>BDoflNnPHog=</td>\n",
       "      <td>158828</td>\n",
       "    </tr>\n",
       "  </tbody>\n",
       "</table>\n",
       "</div>"
      ],
      "text/plain": [
       "   CAMPAIGNER_ID  BROADCAST_ID\n",
       "0   qMPJbluhCXQ=        158828\n",
       "1   BDoflNnPHog=        154395\n",
       "2   BDoflNnPHog=        157751\n",
       "3   BDoflNnPHog=        158310\n",
       "4   BDoflNnPHog=        158828"
      ]
     },
     "execution_count": 2,
     "metadata": {},
     "output_type": "execute_result"
    }
   ],
   "source": [
    "#Import broadcast data\n",
    "emails = pd.read_csv('sends.csv')\n",
    "emails.head()"
   ]
  },
  {
   "cell_type": "code",
   "execution_count": 3,
   "id": "a403a7ca",
   "metadata": {},
   "outputs": [
    {
     "data": {
      "text/plain": [
       "43"
      ]
     },
     "execution_count": 3,
     "metadata": {},
     "output_type": "execute_result"
    }
   ],
   "source": [
    "#Finding unique broadcasts\n",
    "unique_emails = emails['BROADCAST_ID'].unique()\n",
    "len(unique_emails)"
   ]
  },
  {
   "cell_type": "code",
   "execution_count": 4,
   "id": "09404c75",
   "metadata": {},
   "outputs": [
    {
     "name": "stderr",
     "output_type": "stream",
     "text": [
      "C:\\Users\\james\\AppData\\Local\\Temp\\ipykernel_824\\1020435266.py:2: DtypeWarning: Columns (9,10,11,12,14,15) have mixed types. Specify dtype option on import or set low_memory=False.\n",
      "  march = pd.read_csv('transactional/march.csv')\n",
      "C:\\Users\\james\\AppData\\Local\\Temp\\ipykernel_824\\1020435266.py:3: DtypeWarning: Columns (9,10,11,12,14,15) have mixed types. Specify dtype option on import or set low_memory=False.\n",
      "  april = pd.read_csv('transactional/april.csv')\n",
      "C:\\Users\\james\\AppData\\Local\\Temp\\ipykernel_824\\1020435266.py:4: DtypeWarning: Columns (9,10,11,12,14,15) have mixed types. Specify dtype option on import or set low_memory=False.\n",
      "  may = pd.read_csv('transactional/may.csv')\n"
     ]
    }
   ],
   "source": [
    "#import transactional data by month\n",
    "march = pd.read_csv('transactional/march.csv')\n",
    "april = pd.read_csv('transactional/april.csv')\n",
    "may = pd.read_csv('transactional/may.csv')"
   ]
  },
  {
   "cell_type": "code",
   "execution_count": 5,
   "id": "bdf79d31",
   "metadata": {},
   "outputs": [
    {
     "data": {
      "text/html": [
       "<div>\n",
       "<style scoped>\n",
       "    .dataframe tbody tr th:only-of-type {\n",
       "        vertical-align: middle;\n",
       "    }\n",
       "\n",
       "    .dataframe tbody tr th {\n",
       "        vertical-align: top;\n",
       "    }\n",
       "\n",
       "    .dataframe thead th {\n",
       "        text-align: right;\n",
       "    }\n",
       "</style>\n",
       "<table border=\"1\" class=\"dataframe\">\n",
       "  <thead>\n",
       "    <tr style=\"text-align: right;\">\n",
       "      <th></th>\n",
       "      <th>SUPPORTER_ID</th>\n",
       "      <th>COUNTRY</th>\n",
       "      <th>ACTIVITY_TYPE</th>\n",
       "      <th>ACTIVITY_DATETIME</th>\n",
       "      <th>ACTIVITY_ID</th>\n",
       "      <th>ACTIVITY_STATUS</th>\n",
       "      <th>ACTIVITY_DATA_1</th>\n",
       "      <th>ACTIVITY_DATA_2</th>\n",
       "      <th>ACTIVITY_DATA_3</th>\n",
       "      <th>ACTIVITY_DATA_4</th>\n",
       "      <th>...</th>\n",
       "      <th>ACTIVITY_DATA_6</th>\n",
       "      <th>ACTIVITY_DATA_7</th>\n",
       "      <th>ACTIVITY_DATA_8</th>\n",
       "      <th>ACTIVITY_DATA_9</th>\n",
       "      <th>ACTIVITY_DATA_10</th>\n",
       "      <th>ACTIVITY_DATA_26</th>\n",
       "      <th>ACTIVITY_DATA_27</th>\n",
       "      <th>ACTIVITY_DATA_28</th>\n",
       "      <th>ACTIVITY_DATA_29</th>\n",
       "      <th>ACTIVITY_DATA_30</th>\n",
       "    </tr>\n",
       "  </thead>\n",
       "  <tbody>\n",
       "    <tr>\n",
       "      <th>0</th>\n",
       "      <td>nY8jgGWxUeA=</td>\n",
       "      <td>CA</td>\n",
       "      <td>ETT</td>\n",
       "      <td>2017-05-16 14:51:20</td>\n",
       "      <td>69202</td>\n",
       "      <td>P</td>\n",
       "      <td>Jacques</td>\n",
       "      <td>Chagnon</td>\n",
       "      <td>Westmount-Saint-Louis</td>\n",
       "      <td>NaN</td>\n",
       "      <td>...</td>\n",
       "      <td>NaN</td>\n",
       "      <td>NaN</td>\n",
       "      <td>NaN</td>\n",
       "      <td>NaN</td>\n",
       "      <td>NaN</td>\n",
       "      <td>NaN</td>\n",
       "      <td>NaN</td>\n",
       "      <td>NaN</td>\n",
       "      <td>NaN</td>\n",
       "      <td>NaN</td>\n",
       "    </tr>\n",
       "    <tr>\n",
       "      <th>1</th>\n",
       "      <td>xGowEj2GsF0=</td>\n",
       "      <td>CA</td>\n",
       "      <td>ETT</td>\n",
       "      <td>2017-05-31 11:59:48</td>\n",
       "      <td>69589</td>\n",
       "      <td>P</td>\n",
       "      <td>Dummy</td>\n",
       "      <td>Target</td>\n",
       "      <td>NaN</td>\n",
       "      <td>NaN</td>\n",
       "      <td>...</td>\n",
       "      <td>NaN</td>\n",
       "      <td>NaN</td>\n",
       "      <td>NaN</td>\n",
       "      <td>NaN</td>\n",
       "      <td>NaN</td>\n",
       "      <td>NaN</td>\n",
       "      <td>NaN</td>\n",
       "      <td>NaN</td>\n",
       "      <td>NaN</td>\n",
       "      <td>NaN</td>\n",
       "    </tr>\n",
       "    <tr>\n",
       "      <th>2</th>\n",
       "      <td>MpbERpuNCk0=</td>\n",
       "      <td>CA</td>\n",
       "      <td>ETT</td>\n",
       "      <td>2017-05-31 08:23:51</td>\n",
       "      <td>69589</td>\n",
       "      <td>P</td>\n",
       "      <td>Dummy</td>\n",
       "      <td>Target</td>\n",
       "      <td>NaN</td>\n",
       "      <td>NaN</td>\n",
       "      <td>...</td>\n",
       "      <td>NaN</td>\n",
       "      <td>NaN</td>\n",
       "      <td>NaN</td>\n",
       "      <td>NaN</td>\n",
       "      <td>NaN</td>\n",
       "      <td>NaN</td>\n",
       "      <td>NaN</td>\n",
       "      <td>NaN</td>\n",
       "      <td>NaN</td>\n",
       "      <td>NaN</td>\n",
       "    </tr>\n",
       "    <tr>\n",
       "      <th>3</th>\n",
       "      <td>yWg1o0ksoTw=</td>\n",
       "      <td>CA</td>\n",
       "      <td>PET</td>\n",
       "      <td>2017-05-02 08:50:26</td>\n",
       "      <td>37410</td>\n",
       "      <td>P</td>\n",
       "      <td>NaN</td>\n",
       "      <td>NaN</td>\n",
       "      <td>NaN</td>\n",
       "      <td>NaN</td>\n",
       "      <td>...</td>\n",
       "      <td>NaN</td>\n",
       "      <td>NaN</td>\n",
       "      <td>NaN</td>\n",
       "      <td>NaN</td>\n",
       "      <td>NaN</td>\n",
       "      <td>NaN</td>\n",
       "      <td>NaN</td>\n",
       "      <td>NaN</td>\n",
       "      <td>NaN</td>\n",
       "      <td>NaN</td>\n",
       "    </tr>\n",
       "    <tr>\n",
       "      <th>4</th>\n",
       "      <td>u8zF6BZ07dA=</td>\n",
       "      <td>CAN</td>\n",
       "      <td>ETT</td>\n",
       "      <td>2017-05-12 10:46:56</td>\n",
       "      <td>69202</td>\n",
       "      <td>P</td>\n",
       "      <td>Hélène</td>\n",
       "      <td>David</td>\n",
       "      <td>Outremont</td>\n",
       "      <td>NaN</td>\n",
       "      <td>...</td>\n",
       "      <td>NaN</td>\n",
       "      <td>NaN</td>\n",
       "      <td>NaN</td>\n",
       "      <td>NaN</td>\n",
       "      <td>NaN</td>\n",
       "      <td>NaN</td>\n",
       "      <td>NaN</td>\n",
       "      <td>NaN</td>\n",
       "      <td>NaN</td>\n",
       "      <td>NaN</td>\n",
       "    </tr>\n",
       "  </tbody>\n",
       "</table>\n",
       "<p>5 rows × 21 columns</p>\n",
       "</div>"
      ],
      "text/plain": [
       "   SUPPORTER_ID COUNTRY ACTIVITY_TYPE    ACTIVITY_DATETIME  ACTIVITY_ID  \\\n",
       "0  nY8jgGWxUeA=      CA           ETT  2017-05-16 14:51:20        69202   \n",
       "1  xGowEj2GsF0=      CA           ETT  2017-05-31 11:59:48        69589   \n",
       "2  MpbERpuNCk0=      CA           ETT  2017-05-31 08:23:51        69589   \n",
       "3  yWg1o0ksoTw=      CA           PET  2017-05-02 08:50:26        37410   \n",
       "4  u8zF6BZ07dA=     CAN           ETT  2017-05-12 10:46:56        69202   \n",
       "\n",
       "  ACTIVITY_STATUS ACTIVITY_DATA_1 ACTIVITY_DATA_2        ACTIVITY_DATA_3  \\\n",
       "0               P         Jacques         Chagnon  Westmount-Saint-Louis   \n",
       "1               P           Dummy          Target                    NaN   \n",
       "2               P           Dummy          Target                    NaN   \n",
       "3               P             NaN             NaN                    NaN   \n",
       "4               P          Hélène           David              Outremont   \n",
       "\n",
       "  ACTIVITY_DATA_4  ... ACTIVITY_DATA_6 ACTIVITY_DATA_7 ACTIVITY_DATA_8  \\\n",
       "0             NaN  ...             NaN             NaN             NaN   \n",
       "1             NaN  ...             NaN             NaN             NaN   \n",
       "2             NaN  ...             NaN             NaN             NaN   \n",
       "3             NaN  ...             NaN             NaN             NaN   \n",
       "4             NaN  ...             NaN             NaN             NaN   \n",
       "\n",
       "   ACTIVITY_DATA_9 ACTIVITY_DATA_10 ACTIVITY_DATA_26  ACTIVITY_DATA_27  \\\n",
       "0              NaN              NaN              NaN               NaN   \n",
       "1              NaN              NaN              NaN               NaN   \n",
       "2              NaN              NaN              NaN               NaN   \n",
       "3              NaN              NaN              NaN               NaN   \n",
       "4              NaN              NaN              NaN               NaN   \n",
       "\n",
       "   ACTIVITY_DATA_28  ACTIVITY_DATA_29  ACTIVITY_DATA_30  \n",
       "0               NaN               NaN               NaN  \n",
       "1               NaN               NaN               NaN  \n",
       "2               NaN               NaN               NaN  \n",
       "3               NaN               NaN               NaN  \n",
       "4               NaN               NaN               NaN  \n",
       "\n",
       "[5 rows x 21 columns]"
      ]
     },
     "execution_count": 5,
     "metadata": {},
     "output_type": "execute_result"
    }
   ],
   "source": [
    "may.head() ##ACTIVITY_DATA_11-25 missing"
   ]
  },
  {
   "cell_type": "code",
   "execution_count": 6,
   "id": "1d24db53",
   "metadata": {},
   "outputs": [
    {
     "data": {
      "text/plain": [
       "1007"
      ]
     },
     "execution_count": 6,
     "metadata": {},
     "output_type": "execute_result"
    }
   ],
   "source": [
    "len(march['ACTIVITY_ID'].unique()) \n",
    "#seems to be more unique emails on the transactional data than in sends"
   ]
  },
  {
   "cell_type": "code",
   "execution_count": 7,
   "id": "45a61161",
   "metadata": {},
   "outputs": [],
   "source": [
    "#Left join unique_emails (send.csv) with all transactional data\n",
    "#f stands for filtered\n",
    "\n",
    "marchf= march[march['ACTIVITY_ID'].isin(unique_emails)]\n",
    "aprilf= april[april['ACTIVITY_ID'].isin(unique_emails)]\n",
    "mayf= may[may['ACTIVITY_ID'].isin(unique_emails)]"
   ]
  },
  {
   "cell_type": "code",
   "execution_count": 8,
   "id": "23491f0a",
   "metadata": {},
   "outputs": [
    {
     "name": "stdout",
     "output_type": "stream",
     "text": [
      "lengths\n",
      "1435793 march\n",
      "56360 april\n",
      "11203 may\n"
     ]
    },
    {
     "data": {
      "text/html": [
       "<div>\n",
       "<style scoped>\n",
       "    .dataframe tbody tr th:only-of-type {\n",
       "        vertical-align: middle;\n",
       "    }\n",
       "\n",
       "    .dataframe tbody tr th {\n",
       "        vertical-align: top;\n",
       "    }\n",
       "\n",
       "    .dataframe thead th {\n",
       "        text-align: right;\n",
       "    }\n",
       "</style>\n",
       "<table border=\"1\" class=\"dataframe\">\n",
       "  <thead>\n",
       "    <tr style=\"text-align: right;\">\n",
       "      <th></th>\n",
       "      <th>SUPPORTER_ID</th>\n",
       "      <th>COUNTRY</th>\n",
       "      <th>ACTIVITY_TYPE</th>\n",
       "      <th>ACTIVITY_DATETIME</th>\n",
       "      <th>ACTIVITY_ID</th>\n",
       "      <th>ACTIVITY_STATUS</th>\n",
       "      <th>ACTIVITY_DATA_1</th>\n",
       "      <th>ACTIVITY_DATA_2</th>\n",
       "      <th>ACTIVITY_DATA_3</th>\n",
       "      <th>ACTIVITY_DATA_4</th>\n",
       "      <th>...</th>\n",
       "      <th>ACTIVITY_DATA_6</th>\n",
       "      <th>ACTIVITY_DATA_7</th>\n",
       "      <th>ACTIVITY_DATA_8</th>\n",
       "      <th>ACTIVITY_DATA_9</th>\n",
       "      <th>ACTIVITY_DATA_10</th>\n",
       "      <th>ACTIVITY_DATA_26</th>\n",
       "      <th>ACTIVITY_DATA_27</th>\n",
       "      <th>ACTIVITY_DATA_28</th>\n",
       "      <th>ACTIVITY_DATA_29</th>\n",
       "      <th>ACTIVITY_DATA_30</th>\n",
       "    </tr>\n",
       "  </thead>\n",
       "  <tbody>\n",
       "    <tr>\n",
       "      <th>315531</th>\n",
       "      <td>BDoflNnPHog=</td>\n",
       "      <td>CA</td>\n",
       "      <td>EBC</td>\n",
       "      <td>2017-03-07 09:37:06</td>\n",
       "      <td>154395</td>\n",
       "      <td>R</td>\n",
       "      <td>open</td>\n",
       "      <td>click</td>\n",
       "      <td>formsub</td>\n",
       "      <td>NaN</td>\n",
       "      <td>...</td>\n",
       "      <td>NaN</td>\n",
       "      <td>NaN</td>\n",
       "      <td>NaN</td>\n",
       "      <td>131397</td>\n",
       "      <td>NaN</td>\n",
       "      <td>NaN</td>\n",
       "      <td>NaN</td>\n",
       "      <td>NaN</td>\n",
       "      <td>NaN</td>\n",
       "      <td>NaN</td>\n",
       "    </tr>\n",
       "    <tr>\n",
       "      <th>315532</th>\n",
       "      <td>BDoflNnPHog=</td>\n",
       "      <td>CA</td>\n",
       "      <td>EBC</td>\n",
       "      <td>2017-03-02 09:25:09</td>\n",
       "      <td>157751</td>\n",
       "      <td>R</td>\n",
       "      <td>open</td>\n",
       "      <td>NaN</td>\n",
       "      <td>NaN</td>\n",
       "      <td>NaN</td>\n",
       "      <td>...</td>\n",
       "      <td>NaN</td>\n",
       "      <td>NaN</td>\n",
       "      <td>NaN</td>\n",
       "      <td>134772</td>\n",
       "      <td>NaN</td>\n",
       "      <td>NaN</td>\n",
       "      <td>NaN</td>\n",
       "      <td>NaN</td>\n",
       "      <td>NaN</td>\n",
       "      <td>NaN</td>\n",
       "    </tr>\n",
       "    <tr>\n",
       "      <th>315533</th>\n",
       "      <td>BDoflNnPHog=</td>\n",
       "      <td>CA</td>\n",
       "      <td>EBC</td>\n",
       "      <td>2017-03-10 09:31:02</td>\n",
       "      <td>158310</td>\n",
       "      <td>R</td>\n",
       "      <td>open</td>\n",
       "      <td>NaN</td>\n",
       "      <td>NaN</td>\n",
       "      <td>NaN</td>\n",
       "      <td>...</td>\n",
       "      <td>NaN</td>\n",
       "      <td>NaN</td>\n",
       "      <td>NaN</td>\n",
       "      <td>135340</td>\n",
       "      <td>NaN</td>\n",
       "      <td>NaN</td>\n",
       "      <td>NaN</td>\n",
       "      <td>NaN</td>\n",
       "      <td>NaN</td>\n",
       "      <td>NaN</td>\n",
       "    </tr>\n",
       "    <tr>\n",
       "      <th>315534</th>\n",
       "      <td>BDoflNnPHog=</td>\n",
       "      <td>CA</td>\n",
       "      <td>EBC</td>\n",
       "      <td>2017-03-13 13:16:19</td>\n",
       "      <td>158828</td>\n",
       "      <td>R</td>\n",
       "      <td>open</td>\n",
       "      <td>NaN</td>\n",
       "      <td>NaN</td>\n",
       "      <td>NaN</td>\n",
       "      <td>...</td>\n",
       "      <td>NaN</td>\n",
       "      <td>NaN</td>\n",
       "      <td>NaN</td>\n",
       "      <td>135857</td>\n",
       "      <td>NaN</td>\n",
       "      <td>NaN</td>\n",
       "      <td>NaN</td>\n",
       "      <td>NaN</td>\n",
       "      <td>NaN</td>\n",
       "      <td>NaN</td>\n",
       "    </tr>\n",
       "    <tr>\n",
       "      <th>315535</th>\n",
       "      <td>5Aia2InAifo=</td>\n",
       "      <td>GBR</td>\n",
       "      <td>EBC</td>\n",
       "      <td>2017-03-06 15:58:08</td>\n",
       "      <td>154395</td>\n",
       "      <td>R</td>\n",
       "      <td>open</td>\n",
       "      <td>NaN</td>\n",
       "      <td>NaN</td>\n",
       "      <td>NaN</td>\n",
       "      <td>...</td>\n",
       "      <td>NaN</td>\n",
       "      <td>NaN</td>\n",
       "      <td>NaN</td>\n",
       "      <td>131397</td>\n",
       "      <td>NaN</td>\n",
       "      <td>NaN</td>\n",
       "      <td>NaN</td>\n",
       "      <td>NaN</td>\n",
       "      <td>NaN</td>\n",
       "      <td>NaN</td>\n",
       "    </tr>\n",
       "  </tbody>\n",
       "</table>\n",
       "<p>5 rows × 21 columns</p>\n",
       "</div>"
      ],
      "text/plain": [
       "        SUPPORTER_ID COUNTRY ACTIVITY_TYPE    ACTIVITY_DATETIME  ACTIVITY_ID  \\\n",
       "315531  BDoflNnPHog=      CA           EBC  2017-03-07 09:37:06       154395   \n",
       "315532  BDoflNnPHog=      CA           EBC  2017-03-02 09:25:09       157751   \n",
       "315533  BDoflNnPHog=      CA           EBC  2017-03-10 09:31:02       158310   \n",
       "315534  BDoflNnPHog=      CA           EBC  2017-03-13 13:16:19       158828   \n",
       "315535  5Aia2InAifo=     GBR           EBC  2017-03-06 15:58:08       154395   \n",
       "\n",
       "       ACTIVITY_STATUS ACTIVITY_DATA_1 ACTIVITY_DATA_2 ACTIVITY_DATA_3  \\\n",
       "315531               R            open           click         formsub   \n",
       "315532               R            open             NaN             NaN   \n",
       "315533               R            open             NaN             NaN   \n",
       "315534               R            open             NaN             NaN   \n",
       "315535               R            open             NaN             NaN   \n",
       "\n",
       "       ACTIVITY_DATA_4  ... ACTIVITY_DATA_6 ACTIVITY_DATA_7 ACTIVITY_DATA_8  \\\n",
       "315531             NaN  ...             NaN             NaN             NaN   \n",
       "315532             NaN  ...             NaN             NaN             NaN   \n",
       "315533             NaN  ...             NaN             NaN             NaN   \n",
       "315534             NaN  ...             NaN             NaN             NaN   \n",
       "315535             NaN  ...             NaN             NaN             NaN   \n",
       "\n",
       "        ACTIVITY_DATA_9 ACTIVITY_DATA_10 ACTIVITY_DATA_26  ACTIVITY_DATA_27  \\\n",
       "315531           131397              NaN              NaN               NaN   \n",
       "315532           134772              NaN              NaN               NaN   \n",
       "315533           135340              NaN              NaN               NaN   \n",
       "315534           135857              NaN              NaN               NaN   \n",
       "315535           131397              NaN              NaN               NaN   \n",
       "\n",
       "        ACTIVITY_DATA_28  ACTIVITY_DATA_29  ACTIVITY_DATA_30  \n",
       "315531               NaN               NaN               NaN  \n",
       "315532               NaN               NaN               NaN  \n",
       "315533               NaN               NaN               NaN  \n",
       "315534               NaN               NaN               NaN  \n",
       "315535               NaN               NaN               NaN  \n",
       "\n",
       "[5 rows x 21 columns]"
      ]
     },
     "execution_count": 8,
     "metadata": {},
     "output_type": "execute_result"
    }
   ],
   "source": [
    "#check size of each dataset\n",
    "print('lengths')\n",
    "print(str(len(marchf))+' march')\n",
    "print(str(len(aprilf))+' april')\n",
    "print(str(len(mayf))+' may')\n",
    "marchf.head()"
   ]
  },
  {
   "cell_type": "code",
   "execution_count": 9,
   "id": "97ffc739",
   "metadata": {},
   "outputs": [],
   "source": [
    "#combine all monthly data\n",
    "monthsf = [marchf, aprilf, mayf]\n",
    "allmonthsf = pd.concat(monthsf)\n",
    "#allmonths.head()"
   ]
  },
  {
   "cell_type": "code",
   "execution_count": 10,
   "id": "ebb2cecd",
   "metadata": {},
   "outputs": [],
   "source": [
    "#Drop columns that are all NA\n",
    "allmonthsf=allmonthsf.dropna(axis=1, how='all')\n",
    "#Drop Data 9 column\n",
    "allmonthsf=allmonthsf.drop(['ACTIVITY_DATA_9'], axis=1)\n",
    "#Rename columns for EBC activity type\n",
    "EBCrename= {'SUPPORTER_ID':'SUPPORTER_ID',\t\n",
    "            'COUNTRY':'COUNTRY',\n",
    "            'ACTIVITY_TYPE':'ACTIVITY_TYPE',\n",
    "            'ACTIVITY_DATETIME':'ACTIVITY_DATETIME',\n",
    "            'ACTIVITY_ID':'ACTIVITY_ID',\n",
    "            'ACTIVITY_STATUS':'Received', \n",
    "            'ACTIVITY_DATA_1':'Opened',\n",
    "            'ACTIVITY_DATA_2':'Clicked link',\n",
    "            'ACTIVITY_DATA_3':'Form completed',\n",
    "            'ACTIVITY_DATA_4':'Hard bounce',\n",
    "            'ACTIVITY_DATA_5':'Soft bounce',\n",
    "            'ACTIVITY_DATA_6':'Unsubscribed',\n",
    "            'ACTIVITY_DATA_7':'Marked as Spam',\n",
    "            'ACTIVITY_DATA_9':'ACTIVITY_DATA_9'}\n",
    "allmonthsf.columns = allmonthsf.columns.to_series().map(EBCrename)\n",
    "#allmonths.describe(include='all')"
   ]
  },
  {
   "cell_type": "code",
   "execution_count": 11,
   "id": "b0143021",
   "metadata": {},
   "outputs": [
    {
     "data": {
      "text/plain": [
       "True"
      ]
     },
     "execution_count": 11,
     "metadata": {},
     "output_type": "execute_result"
    }
   ],
   "source": [
    "len(allmonthsf.ACTIVITY_ID.unique()) == len(unique_emails) #no loss of information during join"
   ]
  },
  {
   "cell_type": "markdown",
   "id": "d5f40c6c",
   "metadata": {},
   "source": [
    "### all data for one broadcast"
   ]
  },
  {
   "cell_type": "code",
   "execution_count": 12,
   "id": "4f1cc8c8",
   "metadata": {
    "scrolled": true
   },
   "outputs": [],
   "source": [
    "emailtimes = allmonthsf[allmonthsf['ACTIVITY_ID'] == 154395]\n",
    "#emailtimes.head()"
   ]
  },
  {
   "cell_type": "markdown",
   "id": "f0758675",
   "metadata": {},
   "source": [
    "#### plotting time series for opening selected email"
   ]
  },
  {
   "cell_type": "code",
   "execution_count": 13,
   "id": "e31667f4",
   "metadata": {},
   "outputs": [
    {
     "data": {
      "image/png": "[encoded data removed]",
      "text/plain": [
       "<Figure size 1080x144 with 1 Axes>"
      ]
     },
     "metadata": {
      "needs_background": "light"
     },
     "output_type": "display_data"
    }
   ],
   "source": [
    "#Setting up time series data\n",
    "s=emailtimes.set_index('ACTIVITY_DATETIME')['Opened']\n",
    "\n",
    "fig, ax= plt.subplots(figsize=(15,2))\n",
    "\n",
    "# plot green for event==1\n",
    "s1 = s[s == 'open']\n",
    "inxval = matplotlib.dates.date2num(s1.index)\n",
    "times= zip(inxval, np.ones(len(s1)))\n",
    "plt.broken_barh(list(times), (-1,1), color=\"green\")\n",
    "\n",
    "# plot red for event==0\n",
    "s2 = s[s != 'open']\n",
    "inxval = matplotlib.dates.date2num(s2.index)\n",
    "times= zip(inxval, np.ones(len(s2)))\n",
    "plt.broken_barh(list(times), (-1,1), color=\"red\")\n",
    "\n",
    "#format axes\n",
    "ax.margins(0)\n",
    "ax.set_yticks([])\n",
    "ax.xaxis.set_major_locator(matplotlib.dates.MonthLocator())\n",
    "ax.xaxis.set_minor_locator(matplotlib.dates.WeekdayLocator(byweekday=0))\n",
    "monthFmt = matplotlib.dates.DateFormatter(\"%b\")\n",
    "ax.xaxis.set_major_formatter(monthFmt)\n",
    "dayFmt = matplotlib.dates.DateFormatter(\"%a\")\n",
    "ax.xaxis.set_minor_formatter(dayFmt)\n",
    "plt.title('Opening Email-154395 Over March-May')\n",
    "red_patch = mpatches.Patch(color='red', label='Unopened')\n",
    "green_patch = mpatches.Patch(color='green', label='Opened')\n",
    "plt.legend(handles=[red_patch, green_patch])\n",
    "plt.show()\n",
    "#Seems like emails are more likely to be opened mid-end of month for Mar/April"
   ]
  },
  {
   "cell_type": "markdown",
   "id": "1022a5a8",
   "metadata": {},
   "source": [
    "#### Plot for clicking links was all red, so I increased transparancy for red"
   ]
  },
  {
   "cell_type": "code",
   "execution_count": 14,
   "id": "7fd3d2ed",
   "metadata": {},
   "outputs": [
    {
     "data": {
      "image/png": "[encoded data removed]",
      "text/plain": [
       "<Figure size 1080x144 with 1 Axes>"
      ]
     },
     "metadata": {
      "needs_background": "light"
     },
     "output_type": "display_data"
    }
   ],
   "source": [
    "#Setting up time series data\n",
    "s=emailtimes.set_index('ACTIVITY_DATETIME')['Clicked link']\n",
    "\n",
    "fig, ax= plt.subplots(figsize=(15,2))\n",
    "\n",
    "# plot green for event==1\n",
    "s1 = s[s == 'click']\n",
    "inxval = matplotlib.dates.date2num(s1.index)\n",
    "times= zip(inxval, np.ones(len(s1)))\n",
    "plt.broken_barh(list(times), (-1,1), color=\"green\")\n",
    "\n",
    "# plot red for event==0\n",
    "s2 = s[s != 'click']\n",
    "inxval = matplotlib.dates.date2num(s2.index)\n",
    "times= zip(inxval, np.ones(len(s2)))\n",
    "plt.broken_barh(list(times), (-1,1), color=\"red\", alpha=0.01) #had to lower to see\n",
    "\n",
    "#format axes\n",
    "ax.margins(0)\n",
    "ax.set_yticks([])\n",
    "ax.xaxis.set_major_locator(matplotlib.dates.MonthLocator())\n",
    "ax.xaxis.set_minor_locator(matplotlib.dates.WeekdayLocator(byweekday=0))\n",
    "monthFmt = matplotlib.dates.DateFormatter(\"%b\")\n",
    "ax.xaxis.set_major_formatter(monthFmt)\n",
    "dayFmt = matplotlib.dates.DateFormatter(\"%a\")\n",
    "ax.xaxis.set_minor_formatter(dayFmt)\n",
    "plt.title('Clicking Link in Email-154395 Over March-May')\n",
    "red_patch = mpatches.Patch(color='red', label='Not clicked')\n",
    "green_patch = mpatches.Patch(color='green', label='Clicked')\n",
    "plt.legend(handles=[red_patch, green_patch])\n",
    "plt.show() \n",
    "#March is still all red, resolution must not be high enough because \n",
    "#if only the green bar was plotted, it's visible\n",
    "#Weekends tend to have more clicks "
   ]
  },
  {
   "cell_type": "markdown",
   "id": "a8ba3ce3",
   "metadata": {},
   "source": [
    "Focusing on March to increase resolution"
   ]
  },
  {
   "cell_type": "code",
   "execution_count": 15,
   "id": "f6709cf8",
   "metadata": {},
   "outputs": [],
   "source": [
    "marchtimes = marchf[marchf['ACTIVITY_ID'] == 154395]"
   ]
  },
  {
   "cell_type": "code",
   "execution_count": 16,
   "id": "763d747c",
   "metadata": {},
   "outputs": [
    {
     "data": {
      "image/png": "[encoded data removed]",
      "text/plain": [
       "<Figure size 1080x144 with 1 Axes>"
      ]
     },
     "metadata": {
      "needs_background": "light"
     },
     "output_type": "display_data"
    }
   ],
   "source": [
    "#Setting up time series data\n",
    "s=marchtimes.set_index('ACTIVITY_DATETIME')['ACTIVITY_DATA_2']\n",
    "\n",
    "fig, ax= plt.subplots(figsize=(15,2))\n",
    "\n",
    "# plot green for event==1\n",
    "s1 = s[s == 'click']\n",
    "inxval = matplotlib.dates.date2num(s1.index)\n",
    "times= zip(inxval, np.ones(len(s1)))\n",
    "plt.broken_barh(list(times), (-1,1), color=\"green\")\n",
    "\n",
    "# plot red for event==0\n",
    "s2 = s[s != 'click']\n",
    "inxval = matplotlib.dates.date2num(s2.index)\n",
    "times= zip(inxval, np.ones(len(s2)))\n",
    "plt.broken_barh(list(times), (-1,1), color=\"red\", alpha=0.01) #had to lower to see\n",
    "\n",
    "#format axes\n",
    "ax.margins(0)\n",
    "ax.set_yticks([])\n",
    "ax.xaxis.set_major_locator(matplotlib.dates.MonthLocator())\n",
    "ax.xaxis.set_minor_locator(matplotlib.dates.WeekdayLocator(byweekday=0))\n",
    "monthFmt = matplotlib.dates.DateFormatter(\"%b\")\n",
    "ax.xaxis.set_major_formatter(monthFmt)\n",
    "dayFmt = matplotlib.dates.DateFormatter(\"%a\")\n",
    "ax.xaxis.set_minor_formatter(dayFmt)\n",
    "plt.title('Clicking Link in Email-154395 Over March')\n",
    "red_patch = mpatches.Patch(color='red', label='Not clicked')\n",
    "green_patch = mpatches.Patch(color='green', label='Clicked')\n",
    "plt.legend(handles=[red_patch, green_patch])\n",
    "plt.show() \n",
    "\n",
    "#March is still all red, resolution still must not be high enough \n",
    "#In any case, March is the month with lowest frequency of clicking links"
   ]
  },
  {
   "cell_type": "markdown",
   "id": "d27ab2eb",
   "metadata": {},
   "source": [
    "## Across all broadcasts"
   ]
  },
  {
   "cell_type": "markdown",
   "id": "17668c9f",
   "metadata": {},
   "source": [
    "### Count of each metric by ACTIVITY_ID"
   ]
  },
  {
   "cell_type": "code",
   "execution_count": 17,
   "id": "20ec09c1",
   "metadata": {
    "scrolled": true
   },
   "outputs": [
    {
     "data": {
      "text/html": [
       "<div>\n",
       "<style scoped>\n",
       "    .dataframe tbody tr th:only-of-type {\n",
       "        vertical-align: middle;\n",
       "    }\n",
       "\n",
       "    .dataframe tbody tr th {\n",
       "        vertical-align: top;\n",
       "    }\n",
       "\n",
       "    .dataframe thead th {\n",
       "        text-align: right;\n",
       "    }\n",
       "</style>\n",
       "<table border=\"1\" class=\"dataframe\">\n",
       "  <thead>\n",
       "    <tr style=\"text-align: right;\">\n",
       "      <th></th>\n",
       "      <th>SUPPORTER_ID</th>\n",
       "      <th>COUNTRY</th>\n",
       "      <th>ACTIVITY_TYPE</th>\n",
       "      <th>ACTIVITY_DATETIME</th>\n",
       "      <th>Received</th>\n",
       "      <th>Opened</th>\n",
       "      <th>Clicked link</th>\n",
       "      <th>Form completed</th>\n",
       "      <th>Hard bounce</th>\n",
       "      <th>Soft bounce</th>\n",
       "      <th>Unsubscribed</th>\n",
       "      <th>Marked as Spam</th>\n",
       "    </tr>\n",
       "    <tr>\n",
       "      <th>ACTIVITY_ID</th>\n",
       "      <th></th>\n",
       "      <th></th>\n",
       "      <th></th>\n",
       "      <th></th>\n",
       "      <th></th>\n",
       "      <th></th>\n",
       "      <th></th>\n",
       "      <th></th>\n",
       "      <th></th>\n",
       "      <th></th>\n",
       "      <th></th>\n",
       "      <th></th>\n",
       "    </tr>\n",
       "  </thead>\n",
       "  <tbody>\n",
       "    <tr>\n",
       "      <th>154395</th>\n",
       "      <td>266529</td>\n",
       "      <td>266095</td>\n",
       "      <td>266529</td>\n",
       "      <td>266529</td>\n",
       "      <td>266529</td>\n",
       "      <td>264301</td>\n",
       "      <td>76391</td>\n",
       "      <td>72379</td>\n",
       "      <td>1263</td>\n",
       "      <td>435</td>\n",
       "      <td>0</td>\n",
       "      <td>210</td>\n",
       "    </tr>\n",
       "    <tr>\n",
       "      <th>157243</th>\n",
       "      <td>266</td>\n",
       "      <td>266</td>\n",
       "      <td>266</td>\n",
       "      <td>266</td>\n",
       "      <td>266</td>\n",
       "      <td>263</td>\n",
       "      <td>0</td>\n",
       "      <td>0</td>\n",
       "      <td>0</td>\n",
       "      <td>2</td>\n",
       "      <td>0</td>\n",
       "      <td>1</td>\n",
       "    </tr>\n",
       "    <tr>\n",
       "      <th>157563</th>\n",
       "      <td>75339</td>\n",
       "      <td>75337</td>\n",
       "      <td>75339</td>\n",
       "      <td>75339</td>\n",
       "      <td>75339</td>\n",
       "      <td>75027</td>\n",
       "      <td>10594</td>\n",
       "      <td>479</td>\n",
       "      <td>179</td>\n",
       "      <td>46</td>\n",
       "      <td>379</td>\n",
       "      <td>13</td>\n",
       "    </tr>\n",
       "    <tr>\n",
       "      <th>157751</th>\n",
       "      <td>250704</td>\n",
       "      <td>250295</td>\n",
       "      <td>250704</td>\n",
       "      <td>250704</td>\n",
       "      <td>250704</td>\n",
       "      <td>249255</td>\n",
       "      <td>0</td>\n",
       "      <td>0</td>\n",
       "      <td>921</td>\n",
       "      <td>425</td>\n",
       "      <td>0</td>\n",
       "      <td>182</td>\n",
       "    </tr>\n",
       "    <tr>\n",
       "      <th>157848</th>\n",
       "      <td>3094</td>\n",
       "      <td>3089</td>\n",
       "      <td>3094</td>\n",
       "      <td>3094</td>\n",
       "      <td>3094</td>\n",
       "      <td>3086</td>\n",
       "      <td>14</td>\n",
       "      <td>3</td>\n",
       "      <td>3</td>\n",
       "      <td>4</td>\n",
       "      <td>5</td>\n",
       "      <td>0</td>\n",
       "    </tr>\n",
       "  </tbody>\n",
       "</table>\n",
       "</div>"
      ],
      "text/plain": [
       "             SUPPORTER_ID  COUNTRY  ACTIVITY_TYPE  ACTIVITY_DATETIME  \\\n",
       "ACTIVITY_ID                                                            \n",
       "154395             266529   266095         266529             266529   \n",
       "157243                266      266            266                266   \n",
       "157563              75339    75337          75339              75339   \n",
       "157751             250704   250295         250704             250704   \n",
       "157848               3094     3089           3094               3094   \n",
       "\n",
       "             Received  Opened  Clicked link  Form completed  Hard bounce  \\\n",
       "ACTIVITY_ID                                                                \n",
       "154395         266529  264301         76391           72379         1263   \n",
       "157243            266     263             0               0            0   \n",
       "157563          75339   75027         10594             479          179   \n",
       "157751         250704  249255             0               0          921   \n",
       "157848           3094    3086            14               3            3   \n",
       "\n",
       "             Soft bounce  Unsubscribed  Marked as Spam  \n",
       "ACTIVITY_ID                                             \n",
       "154395               435             0             210  \n",
       "157243                 2             0               1  \n",
       "157563                46           379              13  \n",
       "157751               425             0             182  \n",
       "157848                 4             5               0  "
      ]
     },
     "execution_count": 17,
     "metadata": {},
     "output_type": "execute_result"
    }
   ],
   "source": [
    "grouped=allmonthsf.groupby(\"ACTIVITY_ID\").count()\n",
    "grouped.head()"
   ]
  },
  {
   "cell_type": "markdown",
   "id": "74585b2e",
   "metadata": {},
   "source": [
    "#### Convert above table to percentage table"
   ]
  },
  {
   "cell_type": "code",
   "execution_count": 18,
   "id": "10aed829",
   "metadata": {
    "scrolled": true
   },
   "outputs": [
    {
     "data": {
      "text/html": [
       "<div>\n",
       "<style scoped>\n",
       "    .dataframe tbody tr th:only-of-type {\n",
       "        vertical-align: middle;\n",
       "    }\n",
       "\n",
       "    .dataframe tbody tr th {\n",
       "        vertical-align: top;\n",
       "    }\n",
       "\n",
       "    .dataframe thead th {\n",
       "        text-align: right;\n",
       "    }\n",
       "</style>\n",
       "<table border=\"1\" class=\"dataframe\">\n",
       "  <thead>\n",
       "    <tr style=\"text-align: right;\">\n",
       "      <th></th>\n",
       "      <th>COUNT</th>\n",
       "      <th>Received</th>\n",
       "      <th>Opened</th>\n",
       "      <th>Clicked link</th>\n",
       "      <th>Form completed</th>\n",
       "      <th>Hard bounce</th>\n",
       "      <th>Soft bounce</th>\n",
       "      <th>Unsubscribed</th>\n",
       "      <th>Marked as Spam</th>\n",
       "    </tr>\n",
       "    <tr>\n",
       "      <th>ACTIVITY_ID</th>\n",
       "      <th></th>\n",
       "      <th></th>\n",
       "      <th></th>\n",
       "      <th></th>\n",
       "      <th></th>\n",
       "      <th></th>\n",
       "      <th></th>\n",
       "      <th></th>\n",
       "      <th></th>\n",
       "    </tr>\n",
       "  </thead>\n",
       "  <tbody>\n",
       "    <tr>\n",
       "      <th>154395</th>\n",
       "      <td>266529</td>\n",
       "      <td>100.0</td>\n",
       "      <td>99.16</td>\n",
       "      <td>28.66</td>\n",
       "      <td>27.16</td>\n",
       "      <td>0.47</td>\n",
       "      <td>0.16</td>\n",
       "      <td>0.00</td>\n",
       "      <td>0.08</td>\n",
       "    </tr>\n",
       "    <tr>\n",
       "      <th>157243</th>\n",
       "      <td>266</td>\n",
       "      <td>100.0</td>\n",
       "      <td>98.87</td>\n",
       "      <td>0.00</td>\n",
       "      <td>0.00</td>\n",
       "      <td>0.00</td>\n",
       "      <td>0.75</td>\n",
       "      <td>0.00</td>\n",
       "      <td>0.38</td>\n",
       "    </tr>\n",
       "    <tr>\n",
       "      <th>157563</th>\n",
       "      <td>75339</td>\n",
       "      <td>100.0</td>\n",
       "      <td>99.59</td>\n",
       "      <td>14.06</td>\n",
       "      <td>0.64</td>\n",
       "      <td>0.24</td>\n",
       "      <td>0.06</td>\n",
       "      <td>0.50</td>\n",
       "      <td>0.02</td>\n",
       "    </tr>\n",
       "    <tr>\n",
       "      <th>157751</th>\n",
       "      <td>250704</td>\n",
       "      <td>100.0</td>\n",
       "      <td>99.42</td>\n",
       "      <td>0.00</td>\n",
       "      <td>0.00</td>\n",
       "      <td>0.37</td>\n",
       "      <td>0.17</td>\n",
       "      <td>0.00</td>\n",
       "      <td>0.07</td>\n",
       "    </tr>\n",
       "    <tr>\n",
       "      <th>157848</th>\n",
       "      <td>3094</td>\n",
       "      <td>100.0</td>\n",
       "      <td>99.74</td>\n",
       "      <td>0.45</td>\n",
       "      <td>0.10</td>\n",
       "      <td>0.10</td>\n",
       "      <td>0.13</td>\n",
       "      <td>0.16</td>\n",
       "      <td>0.00</td>\n",
       "    </tr>\n",
       "    <tr>\n",
       "      <th>158308</th>\n",
       "      <td>40244</td>\n",
       "      <td>100.0</td>\n",
       "      <td>99.01</td>\n",
       "      <td>4.98</td>\n",
       "      <td>0.82</td>\n",
       "      <td>0.34</td>\n",
       "      <td>0.32</td>\n",
       "      <td>1.36</td>\n",
       "      <td>0.02</td>\n",
       "    </tr>\n",
       "    <tr>\n",
       "      <th>158309</th>\n",
       "      <td>50531</td>\n",
       "      <td>100.0</td>\n",
       "      <td>99.16</td>\n",
       "      <td>3.92</td>\n",
       "      <td>1.39</td>\n",
       "      <td>0.40</td>\n",
       "      <td>0.16</td>\n",
       "      <td>1.31</td>\n",
       "      <td>0.08</td>\n",
       "    </tr>\n",
       "    <tr>\n",
       "      <th>158310</th>\n",
       "      <td>21798</td>\n",
       "      <td>100.0</td>\n",
       "      <td>99.12</td>\n",
       "      <td>3.84</td>\n",
       "      <td>1.16</td>\n",
       "      <td>0.41</td>\n",
       "      <td>0.10</td>\n",
       "      <td>1.74</td>\n",
       "      <td>0.05</td>\n",
       "    </tr>\n",
       "    <tr>\n",
       "      <th>158311</th>\n",
       "      <td>85795</td>\n",
       "      <td>100.0</td>\n",
       "      <td>98.82</td>\n",
       "      <td>4.63</td>\n",
       "      <td>1.34</td>\n",
       "      <td>0.56</td>\n",
       "      <td>0.22</td>\n",
       "      <td>1.61</td>\n",
       "      <td>0.10</td>\n",
       "    </tr>\n",
       "    <tr>\n",
       "      <th>158313</th>\n",
       "      <td>772</td>\n",
       "      <td>100.0</td>\n",
       "      <td>99.61</td>\n",
       "      <td>19.43</td>\n",
       "      <td>12.31</td>\n",
       "      <td>0.00</td>\n",
       "      <td>0.00</td>\n",
       "      <td>0.52</td>\n",
       "      <td>0.00</td>\n",
       "    </tr>\n",
       "    <tr>\n",
       "      <th>158477</th>\n",
       "      <td>1565</td>\n",
       "      <td>100.0</td>\n",
       "      <td>86.77</td>\n",
       "      <td>27.92</td>\n",
       "      <td>24.73</td>\n",
       "      <td>12.20</td>\n",
       "      <td>0.70</td>\n",
       "      <td>0.00</td>\n",
       "      <td>0.00</td>\n",
       "    </tr>\n",
       "    <tr>\n",
       "      <th>158822</th>\n",
       "      <td>1384</td>\n",
       "      <td>100.0</td>\n",
       "      <td>95.52</td>\n",
       "      <td>51.52</td>\n",
       "      <td>0.00</td>\n",
       "      <td>4.19</td>\n",
       "      <td>0.07</td>\n",
       "      <td>0.36</td>\n",
       "      <td>0.14</td>\n",
       "    </tr>\n",
       "    <tr>\n",
       "      <th>158828</th>\n",
       "      <td>53065</td>\n",
       "      <td>100.0</td>\n",
       "      <td>99.27</td>\n",
       "      <td>9.82</td>\n",
       "      <td>0.00</td>\n",
       "      <td>0.50</td>\n",
       "      <td>0.14</td>\n",
       "      <td>0.29</td>\n",
       "      <td>0.02</td>\n",
       "    </tr>\n",
       "    <tr>\n",
       "      <th>158976</th>\n",
       "      <td>2981</td>\n",
       "      <td>100.0</td>\n",
       "      <td>99.53</td>\n",
       "      <td>0.57</td>\n",
       "      <td>0.03</td>\n",
       "      <td>0.30</td>\n",
       "      <td>0.07</td>\n",
       "      <td>0.37</td>\n",
       "      <td>0.00</td>\n",
       "    </tr>\n",
       "    <tr>\n",
       "      <th>159076</th>\n",
       "      <td>15514</td>\n",
       "      <td>100.0</td>\n",
       "      <td>98.88</td>\n",
       "      <td>7.30</td>\n",
       "      <td>0.44</td>\n",
       "      <td>0.67</td>\n",
       "      <td>0.17</td>\n",
       "      <td>0.99</td>\n",
       "      <td>0.06</td>\n",
       "    </tr>\n",
       "    <tr>\n",
       "      <th>159077</th>\n",
       "      <td>14103</td>\n",
       "      <td>100.0</td>\n",
       "      <td>98.96</td>\n",
       "      <td>15.22</td>\n",
       "      <td>0.40</td>\n",
       "      <td>0.33</td>\n",
       "      <td>0.31</td>\n",
       "      <td>0.97</td>\n",
       "      <td>0.06</td>\n",
       "    </tr>\n",
       "    <tr>\n",
       "      <th>159079</th>\n",
       "      <td>29762</td>\n",
       "      <td>100.0</td>\n",
       "      <td>98.64</td>\n",
       "      <td>10.57</td>\n",
       "      <td>0.60</td>\n",
       "      <td>0.74</td>\n",
       "      <td>0.30</td>\n",
       "      <td>1.02</td>\n",
       "      <td>0.07</td>\n",
       "    </tr>\n",
       "    <tr>\n",
       "      <th>159219</th>\n",
       "      <td>25</td>\n",
       "      <td>100.0</td>\n",
       "      <td>100.00</td>\n",
       "      <td>0.00</td>\n",
       "      <td>0.00</td>\n",
       "      <td>0.00</td>\n",
       "      <td>0.00</td>\n",
       "      <td>0.00</td>\n",
       "      <td>0.00</td>\n",
       "    </tr>\n",
       "    <tr>\n",
       "      <th>159222</th>\n",
       "      <td>107</td>\n",
       "      <td>100.0</td>\n",
       "      <td>99.07</td>\n",
       "      <td>1.87</td>\n",
       "      <td>0.00</td>\n",
       "      <td>0.00</td>\n",
       "      <td>0.93</td>\n",
       "      <td>0.00</td>\n",
       "      <td>0.00</td>\n",
       "    </tr>\n",
       "    <tr>\n",
       "      <th>159229</th>\n",
       "      <td>30671</td>\n",
       "      <td>100.0</td>\n",
       "      <td>98.71</td>\n",
       "      <td>34.74</td>\n",
       "      <td>33.45</td>\n",
       "      <td>0.74</td>\n",
       "      <td>0.08</td>\n",
       "      <td>1.00</td>\n",
       "      <td>0.04</td>\n",
       "    </tr>\n",
       "    <tr>\n",
       "      <th>159328</th>\n",
       "      <td>30032</td>\n",
       "      <td>100.0</td>\n",
       "      <td>99.23</td>\n",
       "      <td>4.67</td>\n",
       "      <td>1.73</td>\n",
       "      <td>0.50</td>\n",
       "      <td>0.07</td>\n",
       "      <td>0.67</td>\n",
       "      <td>0.04</td>\n",
       "    </tr>\n",
       "    <tr>\n",
       "      <th>159329</th>\n",
       "      <td>27393</td>\n",
       "      <td>100.0</td>\n",
       "      <td>99.41</td>\n",
       "      <td>7.16</td>\n",
       "      <td>0.97</td>\n",
       "      <td>0.23</td>\n",
       "      <td>0.16</td>\n",
       "      <td>0.81</td>\n",
       "      <td>0.03</td>\n",
       "    </tr>\n",
       "    <tr>\n",
       "      <th>159331</th>\n",
       "      <td>58399</td>\n",
       "      <td>100.0</td>\n",
       "      <td>99.03</td>\n",
       "      <td>5.39</td>\n",
       "      <td>1.58</td>\n",
       "      <td>0.56</td>\n",
       "      <td>0.19</td>\n",
       "      <td>0.73</td>\n",
       "      <td>0.04</td>\n",
       "    </tr>\n",
       "    <tr>\n",
       "      <th>159888</th>\n",
       "      <td>26654</td>\n",
       "      <td>100.0</td>\n",
       "      <td>98.62</td>\n",
       "      <td>29.50</td>\n",
       "      <td>27.54</td>\n",
       "      <td>0.73</td>\n",
       "      <td>0.11</td>\n",
       "      <td>1.07</td>\n",
       "      <td>0.10</td>\n",
       "    </tr>\n",
       "    <tr>\n",
       "      <th>160147</th>\n",
       "      <td>3148</td>\n",
       "      <td>100.0</td>\n",
       "      <td>99.81</td>\n",
       "      <td>0.60</td>\n",
       "      <td>0.00</td>\n",
       "      <td>0.13</td>\n",
       "      <td>0.06</td>\n",
       "      <td>0.22</td>\n",
       "      <td>0.00</td>\n",
       "    </tr>\n",
       "    <tr>\n",
       "      <th>160150</th>\n",
       "      <td>6409</td>\n",
       "      <td>100.0</td>\n",
       "      <td>99.39</td>\n",
       "      <td>10.89</td>\n",
       "      <td>0.61</td>\n",
       "      <td>0.16</td>\n",
       "      <td>0.08</td>\n",
       "      <td>1.22</td>\n",
       "      <td>0.03</td>\n",
       "    </tr>\n",
       "    <tr>\n",
       "      <th>160353</th>\n",
       "      <td>281</td>\n",
       "      <td>100.0</td>\n",
       "      <td>98.93</td>\n",
       "      <td>0.71</td>\n",
       "      <td>0.71</td>\n",
       "      <td>0.36</td>\n",
       "      <td>0.71</td>\n",
       "      <td>0.00</td>\n",
       "      <td>0.00</td>\n",
       "    </tr>\n",
       "    <tr>\n",
       "      <th>160558</th>\n",
       "      <td>1697</td>\n",
       "      <td>100.0</td>\n",
       "      <td>98.53</td>\n",
       "      <td>10.67</td>\n",
       "      <td>0.82</td>\n",
       "      <td>1.00</td>\n",
       "      <td>0.24</td>\n",
       "      <td>0.71</td>\n",
       "      <td>0.24</td>\n",
       "    </tr>\n",
       "    <tr>\n",
       "      <th>160604</th>\n",
       "      <td>1717</td>\n",
       "      <td>100.0</td>\n",
       "      <td>98.66</td>\n",
       "      <td>4.25</td>\n",
       "      <td>0.29</td>\n",
       "      <td>0.70</td>\n",
       "      <td>0.52</td>\n",
       "      <td>0.64</td>\n",
       "      <td>0.00</td>\n",
       "    </tr>\n",
       "    <tr>\n",
       "      <th>160975</th>\n",
       "      <td>54910</td>\n",
       "      <td>100.0</td>\n",
       "      <td>98.81</td>\n",
       "      <td>1.62</td>\n",
       "      <td>0.00</td>\n",
       "      <td>0.87</td>\n",
       "      <td>0.25</td>\n",
       "      <td>0.00</td>\n",
       "      <td>0.12</td>\n",
       "    </tr>\n",
       "    <tr>\n",
       "      <th>161032</th>\n",
       "      <td>881</td>\n",
       "      <td>100.0</td>\n",
       "      <td>98.52</td>\n",
       "      <td>0.91</td>\n",
       "      <td>0.00</td>\n",
       "      <td>1.14</td>\n",
       "      <td>0.23</td>\n",
       "      <td>0.45</td>\n",
       "      <td>0.00</td>\n",
       "    </tr>\n",
       "    <tr>\n",
       "      <th>161151</th>\n",
       "      <td>3054</td>\n",
       "      <td>100.0</td>\n",
       "      <td>99.80</td>\n",
       "      <td>0.36</td>\n",
       "      <td>0.00</td>\n",
       "      <td>0.13</td>\n",
       "      <td>0.07</td>\n",
       "      <td>0.10</td>\n",
       "      <td>0.00</td>\n",
       "    </tr>\n",
       "    <tr>\n",
       "      <th>161581</th>\n",
       "      <td>76535</td>\n",
       "      <td>100.0</td>\n",
       "      <td>98.02</td>\n",
       "      <td>2.72</td>\n",
       "      <td>0.26</td>\n",
       "      <td>1.34</td>\n",
       "      <td>0.27</td>\n",
       "      <td>1.52</td>\n",
       "      <td>0.12</td>\n",
       "    </tr>\n",
       "    <tr>\n",
       "      <th>161582</th>\n",
       "      <td>53332</td>\n",
       "      <td>100.0</td>\n",
       "      <td>99.27</td>\n",
       "      <td>1.68</td>\n",
       "      <td>0.18</td>\n",
       "      <td>0.28</td>\n",
       "      <td>0.18</td>\n",
       "      <td>1.45</td>\n",
       "      <td>0.06</td>\n",
       "    </tr>\n",
       "    <tr>\n",
       "      <th>161583</th>\n",
       "      <td>24800</td>\n",
       "      <td>100.0</td>\n",
       "      <td>99.25</td>\n",
       "      <td>2.00</td>\n",
       "      <td>0.18</td>\n",
       "      <td>0.36</td>\n",
       "      <td>0.10</td>\n",
       "      <td>1.41</td>\n",
       "      <td>0.04</td>\n",
       "    </tr>\n",
       "    <tr>\n",
       "      <th>161584</th>\n",
       "      <td>45202</td>\n",
       "      <td>100.0</td>\n",
       "      <td>98.73</td>\n",
       "      <td>4.97</td>\n",
       "      <td>0.10</td>\n",
       "      <td>0.50</td>\n",
       "      <td>0.35</td>\n",
       "      <td>1.11</td>\n",
       "      <td>0.08</td>\n",
       "    </tr>\n",
       "    <tr>\n",
       "      <th>161655</th>\n",
       "      <td>633</td>\n",
       "      <td>100.0</td>\n",
       "      <td>98.89</td>\n",
       "      <td>9.32</td>\n",
       "      <td>3.00</td>\n",
       "      <td>0.32</td>\n",
       "      <td>0.47</td>\n",
       "      <td>0.32</td>\n",
       "      <td>0.16</td>\n",
       "    </tr>\n",
       "    <tr>\n",
       "      <th>161768</th>\n",
       "      <td>47835</td>\n",
       "      <td>100.0</td>\n",
       "      <td>99.57</td>\n",
       "      <td>4.83</td>\n",
       "      <td>0.75</td>\n",
       "      <td>0.14</td>\n",
       "      <td>0.09</td>\n",
       "      <td>0.34</td>\n",
       "      <td>0.03</td>\n",
       "    </tr>\n",
       "    <tr>\n",
       "      <th>161951</th>\n",
       "      <td>2945</td>\n",
       "      <td>100.0</td>\n",
       "      <td>99.76</td>\n",
       "      <td>0.20</td>\n",
       "      <td>0.00</td>\n",
       "      <td>0.17</td>\n",
       "      <td>0.07</td>\n",
       "      <td>0.14</td>\n",
       "      <td>0.00</td>\n",
       "    </tr>\n",
       "    <tr>\n",
       "      <th>162032</th>\n",
       "      <td>38240</td>\n",
       "      <td>100.0</td>\n",
       "      <td>97.28</td>\n",
       "      <td>2.57</td>\n",
       "      <td>0.37</td>\n",
       "      <td>1.40</td>\n",
       "      <td>0.65</td>\n",
       "      <td>2.01</td>\n",
       "      <td>0.17</td>\n",
       "    </tr>\n",
       "    <tr>\n",
       "      <th>162035</th>\n",
       "      <td>24029</td>\n",
       "      <td>100.0</td>\n",
       "      <td>98.36</td>\n",
       "      <td>1.46</td>\n",
       "      <td>0.17</td>\n",
       "      <td>0.75</td>\n",
       "      <td>0.35</td>\n",
       "      <td>1.88</td>\n",
       "      <td>0.12</td>\n",
       "    </tr>\n",
       "    <tr>\n",
       "      <th>162036</th>\n",
       "      <td>11117</td>\n",
       "      <td>100.0</td>\n",
       "      <td>98.62</td>\n",
       "      <td>2.03</td>\n",
       "      <td>0.19</td>\n",
       "      <td>0.49</td>\n",
       "      <td>0.27</td>\n",
       "      <td>2.17</td>\n",
       "      <td>0.12</td>\n",
       "    </tr>\n",
       "    <tr>\n",
       "      <th>162037</th>\n",
       "      <td>19864</td>\n",
       "      <td>100.0</td>\n",
       "      <td>97.93</td>\n",
       "      <td>5.27</td>\n",
       "      <td>0.27</td>\n",
       "      <td>0.66</td>\n",
       "      <td>0.78</td>\n",
       "      <td>1.59</td>\n",
       "      <td>0.09</td>\n",
       "    </tr>\n",
       "  </tbody>\n",
       "</table>\n",
       "</div>"
      ],
      "text/plain": [
       "              COUNT  Received  Opened  Clicked link  Form completed  \\\n",
       "ACTIVITY_ID                                                           \n",
       "154395       266529     100.0   99.16         28.66           27.16   \n",
       "157243          266     100.0   98.87          0.00            0.00   \n",
       "157563        75339     100.0   99.59         14.06            0.64   \n",
       "157751       250704     100.0   99.42          0.00            0.00   \n",
       "157848         3094     100.0   99.74          0.45            0.10   \n",
       "158308        40244     100.0   99.01          4.98            0.82   \n",
       "158309        50531     100.0   99.16          3.92            1.39   \n",
       "158310        21798     100.0   99.12          3.84            1.16   \n",
       "158311        85795     100.0   98.82          4.63            1.34   \n",
       "158313          772     100.0   99.61         19.43           12.31   \n",
       "158477         1565     100.0   86.77         27.92           24.73   \n",
       "158822         1384     100.0   95.52         51.52            0.00   \n",
       "158828        53065     100.0   99.27          9.82            0.00   \n",
       "158976         2981     100.0   99.53          0.57            0.03   \n",
       "159076        15514     100.0   98.88          7.30            0.44   \n",
       "159077        14103     100.0   98.96         15.22            0.40   \n",
       "159079        29762     100.0   98.64         10.57            0.60   \n",
       "159219           25     100.0  100.00          0.00            0.00   \n",
       "159222          107     100.0   99.07          1.87            0.00   \n",
       "159229        30671     100.0   98.71         34.74           33.45   \n",
       "159328        30032     100.0   99.23          4.67            1.73   \n",
       "159329        27393     100.0   99.41          7.16            0.97   \n",
       "159331        58399     100.0   99.03          5.39            1.58   \n",
       "159888        26654     100.0   98.62         29.50           27.54   \n",
       "160147         3148     100.0   99.81          0.60            0.00   \n",
       "160150         6409     100.0   99.39         10.89            0.61   \n",
       "160353          281     100.0   98.93          0.71            0.71   \n",
       "160558         1697     100.0   98.53         10.67            0.82   \n",
       "160604         1717     100.0   98.66          4.25            0.29   \n",
       "160975        54910     100.0   98.81          1.62            0.00   \n",
       "161032          881     100.0   98.52          0.91            0.00   \n",
       "161151         3054     100.0   99.80          0.36            0.00   \n",
       "161581        76535     100.0   98.02          2.72            0.26   \n",
       "161582        53332     100.0   99.27          1.68            0.18   \n",
       "161583        24800     100.0   99.25          2.00            0.18   \n",
       "161584        45202     100.0   98.73          4.97            0.10   \n",
       "161655          633     100.0   98.89          9.32            3.00   \n",
       "161768        47835     100.0   99.57          4.83            0.75   \n",
       "161951         2945     100.0   99.76          0.20            0.00   \n",
       "162032        38240     100.0   97.28          2.57            0.37   \n",
       "162035        24029     100.0   98.36          1.46            0.17   \n",
       "162036        11117     100.0   98.62          2.03            0.19   \n",
       "162037        19864     100.0   97.93          5.27            0.27   \n",
       "\n",
       "             Hard bounce  Soft bounce  Unsubscribed  Marked as Spam  \n",
       "ACTIVITY_ID                                                          \n",
       "154395              0.47         0.16          0.00            0.08  \n",
       "157243              0.00         0.75          0.00            0.38  \n",
       "157563              0.24         0.06          0.50            0.02  \n",
       "157751              0.37         0.17          0.00            0.07  \n",
       "157848              0.10         0.13          0.16            0.00  \n",
       "158308              0.34         0.32          1.36            0.02  \n",
       "158309              0.40         0.16          1.31            0.08  \n",
       "158310              0.41         0.10          1.74            0.05  \n",
       "158311              0.56         0.22          1.61            0.10  \n",
       "158313              0.00         0.00          0.52            0.00  \n",
       "158477             12.20         0.70          0.00            0.00  \n",
       "158822              4.19         0.07          0.36            0.14  \n",
       "158828              0.50         0.14          0.29            0.02  \n",
       "158976              0.30         0.07          0.37            0.00  \n",
       "159076              0.67         0.17          0.99            0.06  \n",
       "159077              0.33         0.31          0.97            0.06  \n",
       "159079              0.74         0.30          1.02            0.07  \n",
       "159219              0.00         0.00          0.00            0.00  \n",
       "159222              0.00         0.93          0.00            0.00  \n",
       "159229              0.74         0.08          1.00            0.04  \n",
       "159328              0.50         0.07          0.67            0.04  \n",
       "159329              0.23         0.16          0.81            0.03  \n",
       "159331              0.56         0.19          0.73            0.04  \n",
       "159888              0.73         0.11          1.07            0.10  \n",
       "160147              0.13         0.06          0.22            0.00  \n",
       "160150              0.16         0.08          1.22            0.03  \n",
       "160353              0.36         0.71          0.00            0.00  \n",
       "160558              1.00         0.24          0.71            0.24  \n",
       "160604              0.70         0.52          0.64            0.00  \n",
       "160975              0.87         0.25          0.00            0.12  \n",
       "161032              1.14         0.23          0.45            0.00  \n",
       "161151              0.13         0.07          0.10            0.00  \n",
       "161581              1.34         0.27          1.52            0.12  \n",
       "161582              0.28         0.18          1.45            0.06  \n",
       "161583              0.36         0.10          1.41            0.04  \n",
       "161584              0.50         0.35          1.11            0.08  \n",
       "161655              0.32         0.47          0.32            0.16  \n",
       "161768              0.14         0.09          0.34            0.03  \n",
       "161951              0.17         0.07          0.14            0.00  \n",
       "162032              1.40         0.65          2.01            0.17  \n",
       "162035              0.75         0.35          1.88            0.12  \n",
       "162036              0.49         0.27          2.17            0.12  \n",
       "162037              0.66         0.78          1.59            0.09  "
      ]
     },
     "execution_count": 18,
     "metadata": {},
     "output_type": "execute_result"
    }
   ],
   "source": [
    "percent=grouped.copy()\n",
    "metrics=['Received', 'Opened', 'Clicked link','Form completed',\n",
    "         'Hard bounce','Soft bounce','Unsubscribed','Marked as Spam']\n",
    "for col in percent:\n",
    "    if col in metrics:\n",
    "        percent[col] = (100. * percent[col] / percent['ACTIVITY_TYPE']).round(2)\n",
    "    else:\n",
    "        pass\n",
    "percent=percent.drop(['COUNTRY', 'ACTIVITY_TYPE', 'ACTIVITY_DATETIME'], axis=1)\n",
    "percent.rename(columns={'SUPPORTER_ID':'COUNT'}, inplace = True) #Total copies of email sent\n",
    "percent #Percentage of total copies of email sent for each metric"
   ]
  },
  {
   "cell_type": "markdown",
   "id": "c6a5550d",
   "metadata": {},
   "source": [
    "### Max values and ACTIVITY_ID of each metric"
   ]
  },
  {
   "cell_type": "code",
   "execution_count": 19,
   "id": "dc614e34",
   "metadata": {},
   "outputs": [
    {
     "data": {
      "text/html": [
       "<div>\n",
       "<style scoped>\n",
       "    .dataframe tbody tr th:only-of-type {\n",
       "        vertical-align: middle;\n",
       "    }\n",
       "\n",
       "    .dataframe tbody tr th {\n",
       "        vertical-align: top;\n",
       "    }\n",
       "\n",
       "    .dataframe thead th {\n",
       "        text-align: right;\n",
       "    }\n",
       "</style>\n",
       "<table border=\"1\" class=\"dataframe\">\n",
       "  <thead>\n",
       "    <tr style=\"text-align: right;\">\n",
       "      <th></th>\n",
       "      <th>Max Value</th>\n",
       "      <th>ACTIVITY_ID</th>\n",
       "    </tr>\n",
       "  </thead>\n",
       "  <tbody>\n",
       "    <tr>\n",
       "      <th>COUNT</th>\n",
       "      <td>266529.00</td>\n",
       "      <td>154395</td>\n",
       "    </tr>\n",
       "    <tr>\n",
       "      <th>Received</th>\n",
       "      <td>100.00</td>\n",
       "      <td>154395</td>\n",
       "    </tr>\n",
       "    <tr>\n",
       "      <th>Opened</th>\n",
       "      <td>100.00</td>\n",
       "      <td>159219</td>\n",
       "    </tr>\n",
       "    <tr>\n",
       "      <th>Clicked link</th>\n",
       "      <td>51.52</td>\n",
       "      <td>158822</td>\n",
       "    </tr>\n",
       "    <tr>\n",
       "      <th>Form completed</th>\n",
       "      <td>33.45</td>\n",
       "      <td>159229</td>\n",
       "    </tr>\n",
       "    <tr>\n",
       "      <th>Hard bounce</th>\n",
       "      <td>12.20</td>\n",
       "      <td>158477</td>\n",
       "    </tr>\n",
       "    <tr>\n",
       "      <th>Soft bounce</th>\n",
       "      <td>0.93</td>\n",
       "      <td>159222</td>\n",
       "    </tr>\n",
       "    <tr>\n",
       "      <th>Unsubscribed</th>\n",
       "      <td>2.17</td>\n",
       "      <td>162036</td>\n",
       "    </tr>\n",
       "    <tr>\n",
       "      <th>Marked as Spam</th>\n",
       "      <td>0.38</td>\n",
       "      <td>157243</td>\n",
       "    </tr>\n",
       "  </tbody>\n",
       "</table>\n",
       "</div>"
      ],
      "text/plain": [
       "                Max Value  ACTIVITY_ID\n",
       "COUNT           266529.00       154395\n",
       "Received           100.00       154395\n",
       "Opened             100.00       159219\n",
       "Clicked link        51.52       158822\n",
       "Form completed      33.45       159229\n",
       "Hard bounce         12.20       158477\n",
       "Soft bounce          0.93       159222\n",
       "Unsubscribed         2.17       162036\n",
       "Marked as Spam       0.38       157243"
      ]
     },
     "execution_count": 19,
     "metadata": {},
     "output_type": "execute_result"
    }
   ],
   "source": [
    "maxvalues= percent.max()\n",
    "idxmaxvalues = percent.idxmax()\n",
    "table=pd.concat([maxvalues, idxmaxvalues], axis=1)\n",
    "table.rename(columns={0:'Max Value', 1:'ACTIVITY_ID'}, inplace = True)\n",
    "table"
   ]
  },
  {
   "cell_type": "markdown",
   "id": "dd9dafc0",
   "metadata": {},
   "source": [
    "### Distribution of ACTIVITY_TYPE"
   ]
  },
  {
   "cell_type": "code",
   "execution_count": 20,
   "id": "29bffe4d",
   "metadata": {},
   "outputs": [
    {
     "data": {
      "text/plain": [
       "EBC    1435793\n",
       "Name: ACTIVITY_TYPE, dtype: int64"
      ]
     },
     "execution_count": 20,
     "metadata": {},
     "output_type": "execute_result"
    }
   ],
   "source": [
    "marchf.ACTIVITY_TYPE.value_counts()"
   ]
  },
  {
   "cell_type": "code",
   "execution_count": 21,
   "id": "31bdf880",
   "metadata": {},
   "outputs": [
    {
     "data": {
      "image/png": "[encoded data removed]",
      "text/plain": [
       "<Figure size 432x288 with 1 Axes>"
      ]
     },
     "metadata": {
      "needs_background": "light"
     },
     "output_type": "display_data"
    }
   ],
   "source": [
    "marchf.ACTIVITY_TYPE.value_counts().plot(kind='bar', label='March', color='purple',alpha=0.7)\n",
    "aprilf.ACTIVITY_TYPE.value_counts().plot(kind='bar', label='April', color='green', alpha=0.5)\n",
    "mayf.ACTIVITY_TYPE.value_counts().plot(kind='bar', label='May')\n",
    "plt.title(\"Email types from March-May\")\n",
    "plt.xlabel(\"Email type\")\n",
    "plt.ylabel(\"Frequency\")\n",
    "plt.legend(loc='upper right') #All emails are EBC\n",
    "plt.show()"
   ]
  },
  {
   "cell_type": "markdown",
   "id": "08fd762a",
   "metadata": {},
   "source": [
    "## One broadcast"
   ]
  },
  {
   "cell_type": "markdown",
   "id": "d0388a27",
   "metadata": {},
   "source": [
    "### Plotting metrics for one broadcast (ACTIVITY_ID=154395)"
   ]
  },
  {
   "cell_type": "markdown",
   "id": "bda25b3d",
   "metadata": {},
   "source": [
    "#### removed received/opened since they're all approx 100%"
   ]
  },
  {
   "cell_type": "code",
   "execution_count": 22,
   "id": "96f9eefc",
   "metadata": {},
   "outputs": [
    {
     "data": {
      "image/png": "[encoded data removed]",
      "text/plain": [
       "<Figure size 432x288 with 1 Axes>"
      ]
     },
     "metadata": {
      "needs_background": "light"
     },
     "output_type": "display_data"
    }
   ],
   "source": [
    "percent.iloc[0, 3:].plot.bar(rot=0)\n",
    "plt.xticks(rotation=30)\n",
    "plt.title('Broadcast metrics for Email 157395')\n",
    "plt.ylabel('Percent of Email Receipients')\n",
    "plt.xlabel('Email Reactions')\n",
    "plt.show()\n",
    "\n",
    "#Almost everyone clicking the link also completed the form\n",
    "#Should focus on getting people to click the link"
   ]
  },
  {
   "cell_type": "markdown",
   "id": "eff8c064",
   "metadata": {},
   "source": [
    "### Plotting metrics for one broadcast (ACTIVITY_ID=154243)"
   ]
  },
  {
   "cell_type": "code",
   "execution_count": 23,
   "id": "2bd6c660",
   "metadata": {},
   "outputs": [
    {
     "data": {
      "image/png": "[encoded data removed]",
      "text/plain": [
       "<Figure size 432x288 with 1 Axes>"
      ]
     },
     "metadata": {
      "needs_background": "light"
     },
     "output_type": "display_data"
    }
   ],
   "source": [
    "percent.iloc[1, 3:].plot.bar(rot=0)\n",
    "plt.xticks(rotation=30)\n",
    "plt.title('Broadcast metrics for Email 154243')\n",
    "plt.ylabel('Percent of Email Receipients')\n",
    "plt.xlabel('Email Reactions')\n",
    "plt.show()"
   ]
  },
  {
   "cell_type": "markdown",
   "id": "750b8304",
   "metadata": {},
   "source": [
    "# 2 \n",
    "Write a function to identify all transactions and sends received by any given supporter. Remember Supporter Id ↔ Campaigner Id.\n",
    "Choose a single supporter ID and produce summary statistics and/or visualisations."
   ]
  },
  {
   "cell_type": "markdown",
   "id": "29033db0",
   "metadata": {},
   "source": [
    "Skip below cell if already run from part 1"
   ]
  },
  {
   "cell_type": "code",
   "execution_count": 24,
   "id": "ac42630c",
   "metadata": {},
   "outputs": [
    {
     "name": "stderr",
     "output_type": "stream",
     "text": [
      "C:\\Users\\james\\AppData\\Local\\Temp\\ipykernel_824\\109434439.py:4: DtypeWarning: Columns (9,10,11,12,14,15) have mixed types. Specify dtype option on import or set low_memory=False.\n",
      "  march = pd.read_csv('transactional/march.csv')\n",
      "C:\\Users\\james\\AppData\\Local\\Temp\\ipykernel_824\\109434439.py:5: DtypeWarning: Columns (9,10,11,12,14,15) have mixed types. Specify dtype option on import or set low_memory=False.\n",
      "  april = pd.read_csv('transactional/april.csv')\n",
      "C:\\Users\\james\\AppData\\Local\\Temp\\ipykernel_824\\109434439.py:6: DtypeWarning: Columns (9,10,11,12,14,15) have mixed types. Specify dtype option on import or set low_memory=False.\n",
      "  may = pd.read_csv('transactional/may.csv')\n"
     ]
    }
   ],
   "source": [
    "#Import broadcast data\n",
    "emails = pd.read_csv('sends.csv')\n",
    "#import transactional data by month\n",
    "march = pd.read_csv('transactional/march.csv')\n",
    "april = pd.read_csv('transactional/april.csv')\n",
    "may = pd.read_csv('transactional/may.csv')"
   ]
  },
  {
   "cell_type": "code",
   "execution_count": 25,
   "id": "b2554631",
   "metadata": {},
   "outputs": [],
   "source": [
    "months = [march, april, may]\n",
    "allmonths = pd.concat(months)"
   ]
  },
  {
   "cell_type": "code",
   "execution_count": 26,
   "id": "36a8d8a6",
   "metadata": {},
   "outputs": [],
   "source": [
    "#emails['CAMPAIGNER_ID'].unique() #seems to be leading whitespace\n",
    "emails['CAMPAIGNER_ID']= emails['CAMPAIGNER_ID'].str.strip() #Delete whitespace"
   ]
  },
  {
   "cell_type": "markdown",
   "id": "184a7a5b",
   "metadata": {},
   "source": [
    "### Input Campaigner/Supporter ID"
   ]
  },
  {
   "cell_type": "code",
   "execution_count": 27,
   "id": "1b8f9a6d",
   "metadata": {},
   "outputs": [
    {
     "name": "stdout",
     "output_type": "stream",
     "text": [
      "input campaigner/supporter ID: 7FcxrYenxomZkArzVWMSmA==\n"
     ]
    }
   ],
   "source": [
    "campaigner = input('input campaigner/supporter ID: ') #7FcxrYenxomZkArzVWMSmA=="
   ]
  },
  {
   "cell_type": "markdown",
   "id": "60b78a32",
   "metadata": {},
   "source": [
    "### Data"
   ]
  },
  {
   "cell_type": "code",
   "execution_count": 28,
   "id": "23c9f409",
   "metadata": {},
   "outputs": [
    {
     "name": "stdout",
     "output_type": "stream",
     "text": [
      "Sends data\n",
      "Number of unique emails sent: 14\n",
      "\n",
      "\n",
      "Transactional data\n",
      "Number of unique transactions: 41\n"
     ]
    }
   ],
   "source": [
    "if campaigner in emails['CAMPAIGNER_ID'].unique(): \n",
    "    sends = emails[emails['CAMPAIGNER_ID']==campaigner]\n",
    "    print('Sends data')\n",
    "    #print(sends.head())\n",
    "    print('Number of unique emails sent: '+str(len(sends.BROADCAST_ID)))\n",
    "else:\n",
    "    print('No sends data available for campaigner')\n",
    "\n",
    "print('\\n')\n",
    "if campaigner in allmonths['SUPPORTER_ID'].unique():\n",
    "    print('Transactional data')\n",
    "    transactional = allmonths[allmonths['SUPPORTER_ID']==campaigner]\n",
    "    #Drop columns that are all NA\n",
    "    transactional=transactional.dropna(axis=1, how='all')\n",
    "    #print(transactional.head())\n",
    "    #print(transactional.describe(include='all'))\n",
    "    print('Number of unique transactions: '+str(len(transactional)))\n",
    "else:\n",
    "    print('No transactional data available for campaigner')"
   ]
  },
  {
   "cell_type": "code",
   "execution_count": 29,
   "id": "5cafb833",
   "metadata": {},
   "outputs": [
    {
     "name": "stdout",
     "output_type": "stream",
     "text": [
      "EBC    39\n",
      "ETT     2\n",
      "Name: ACTIVITY_TYPE, dtype: int64\n"
     ]
    },
    {
     "data": {
      "image/png": "[encoded data removed]",
      "text/plain": [
       "<Figure size 432x288 with 1 Axes>"
      ]
     },
     "metadata": {
      "needs_background": "light"
     },
     "output_type": "display_data"
    }
   ],
   "source": [
    "print(transactional.ACTIVITY_TYPE.value_counts())\n",
    "transactional.ACTIVITY_TYPE.value_counts().plot(kind='bar')\n",
    "plt.title(\"Email types for Campaigner \" + str(campaigner))\n",
    "plt.xlabel(\"Email type\")\n",
    "plt.ylabel(\"Frequency\")\n",
    "plt.show()\n",
    "#Add annotations to label the values of the bars later"
   ]
  },
  {
   "cell_type": "code",
   "execution_count": 30,
   "id": "627e79a7",
   "metadata": {},
   "outputs": [
    {
     "name": "stdout",
     "output_type": "stream",
     "text": [
      "Number of broadcasts with both send and transactional data: 14\n"
     ]
    }
   ],
   "source": [
    "#Find overlap between broadcasts and transactions\n",
    "intersectIDs= set(sends.BROADCAST_ID).intersection(transactional['ACTIVITY_ID'])\n",
    "print('Number of broadcasts with both send and transactional data: ' + str(len(intersectIDs)))\n",
    "sendtransactions = transactional[transactional['ACTIVITY_ID'].isin(intersectIDs)]"
   ]
  },
  {
   "cell_type": "code",
   "execution_count": 31,
   "id": "5eeba9d9",
   "metadata": {},
   "outputs": [],
   "source": [
    "transactiongroup=transactional.groupby(\"ACTIVITY_TYPE\").count()\n",
    "#transactiongroup"
   ]
  },
  {
   "cell_type": "code",
   "execution_count": 32,
   "id": "4cb01b36",
   "metadata": {},
   "outputs": [
    {
     "name": "stdout",
     "output_type": "stream",
     "text": [
      "Total number of Broadcast Emails Received: 39.0\n",
      "Received          100.00\n",
      "Opened            100.00\n",
      "Clicked link        7.69\n",
      "Form completed      5.13\n",
      "Name: EBC, dtype: float64\n"
     ]
    },
    {
     "data": {
      "image/png": "[encoded data removed]",
      "text/plain": [
       "<Figure size 432x288 with 1 Axes>"
      ]
     },
     "metadata": {
      "needs_background": "light"
     },
     "output_type": "display_data"
    }
   ],
   "source": [
    "transactiongroup=transactional.groupby(\"ACTIVITY_TYPE\").count()\n",
    "EBC = transactiongroup.loc[\"EBC\"]\n",
    "EBC.index = EBC.index.map(EBCrename)\n",
    "#EBC=EBC.drop(['ACTIVITY_DATA_9'])\n",
    "\n",
    "metrics=['Received', 'Opened', 'Clicked link','Form completed',\n",
    "         'Hard bounce','Soft bounce','Unsubscribed','Marked as Spam']\n",
    "for col in EBC.index:\n",
    "    if col in metrics:\n",
    "        EBC.loc[col] = (100. * EBC.loc[col] / EBC.loc['ACTIVITY_ID']).round(2)\n",
    "    else:\n",
    "        pass\n",
    "\n",
    "print('Total number of Broadcast Emails Received: ' + str(EBC.loc['SUPPORTER_ID']))\n",
    "EBC=EBC.drop(['SUPPORTER_ID', 'COUNTRY', 'ACTIVITY_DATETIME', 'ACTIVITY_ID','ACTIVITY_DATA_9'])\n",
    "print(EBC)\n",
    "\n",
    "EBC.plot(kind='bar')\n",
    "plt.suptitle('Campaigner: ' + str(campaigner))\n",
    "plt.title('Percent of Broadcast Emails Interacted With')\n",
    "plt.tight_layout()\n",
    "plt.show()"
   ]
  },
  {
   "cell_type": "code",
   "execution_count": 33,
   "id": "4b335eb5",
   "metadata": {},
   "outputs": [],
   "source": [
    "EBC2 = transactional[transactional[\"ACTIVITY_TYPE\"]==\"EBC\"]\n",
    "EBC2.columns= EBC2.columns.to_series().map(EBCrename)"
   ]
  },
  {
   "cell_type": "code",
   "execution_count": 34,
   "id": "0152fe5d",
   "metadata": {},
   "outputs": [
    {
     "data": {
      "image/png": "[encoded data removed]",
      "text/plain": [
       "<Figure size 432x144 with 1 Axes>"
      ]
     },
     "metadata": {
      "needs_background": "light"
     },
     "output_type": "display_data"
    }
   ],
   "source": [
    "#Setting up time series data\n",
    "s=EBC2.set_index('ACTIVITY_DATETIME')['Clicked link']\n",
    "\n",
    "fig, ax= plt.subplots(figsize=(6,2))\n",
    "\n",
    "# plot green for event==1\n",
    "s1 = s[s == 'click']\n",
    "inxval = matplotlib.dates.date2num(s1.index)\n",
    "times= zip(inxval, np.ones(len(s1)))\n",
    "plt.broken_barh(list(times), (-1,1), color=\"green\")\n",
    "\n",
    "# plot red for event==0\n",
    "s2 = s[s != 'click']\n",
    "inxval = matplotlib.dates.date2num(s2.index)\n",
    "times= zip(inxval, np.ones(len(s2)))\n",
    "plt.broken_barh(list(times), (-1,1), color=\"red\")\n",
    "\n",
    "#format axes\n",
    "ax.margins(0)\n",
    "ax.set_yticks([])\n",
    "ax.xaxis.set_major_locator(matplotlib.dates.MonthLocator())\n",
    "ax.xaxis.set_minor_locator(matplotlib.dates.WeekdayLocator(byweekday=0))\n",
    "monthFmt = matplotlib.dates.DateFormatter(\"%b\")\n",
    "ax.xaxis.set_major_formatter(monthFmt)\n",
    "dayFmt = matplotlib.dates.DateFormatter(\"%a\")\n",
    "ax.xaxis.set_minor_formatter(dayFmt)\n",
    "\n",
    "plt.suptitle(str(campaigner))\n",
    "plt.title('Clicking Link in Broadcast Emails')\n",
    "red_patch = mpatches.Patch(color='red', label='Not clicked')\n",
    "green_patch = mpatches.Patch(color='green', label='Clicked')\n",
    "plt.legend(handles=[red_patch, green_patch])\n",
    "plt.tight_layout()\n",
    "plt.show() "
   ]
  },
  {
   "cell_type": "markdown",
   "id": "6824b17d",
   "metadata": {},
   "source": [
    "# 3 \n",
    "Transactions with Activity Type FUR and FCS represent fundraising (donations) actions for the\n",
    "client. FUR represents recurring (generally monthly) donations and FCS represents single donations.\n",
    "Produce analytics for these activities over the three months of data you have (this task is purposely a bit\n",
    "more open ended)."
   ]
  },
  {
   "cell_type": "code",
   "execution_count": 35,
   "id": "8d2f1d7a",
   "metadata": {},
   "outputs": [
    {
     "data": {
      "text/html": [
       "<div>\n",
       "<style scoped>\n",
       "    .dataframe tbody tr th:only-of-type {\n",
       "        vertical-align: middle;\n",
       "    }\n",
       "\n",
       "    .dataframe tbody tr th {\n",
       "        vertical-align: top;\n",
       "    }\n",
       "\n",
       "    .dataframe thead th {\n",
       "        text-align: right;\n",
       "    }\n",
       "</style>\n",
       "<table border=\"1\" class=\"dataframe\">\n",
       "  <thead>\n",
       "    <tr style=\"text-align: right;\">\n",
       "      <th></th>\n",
       "      <th>SUPPORTER_ID</th>\n",
       "      <th>COUNTRY</th>\n",
       "      <th>ACTIVITY_TYPE</th>\n",
       "      <th>ACTIVITY_DATETIME</th>\n",
       "      <th>ACTIVITY_ID</th>\n",
       "      <th>ACTIVITY_STATUS</th>\n",
       "      <th>ACTIVITY_DATA_1</th>\n",
       "      <th>ACTIVITY_DATA_2</th>\n",
       "      <th>ACTIVITY_DATA_3</th>\n",
       "      <th>ACTIVITY_DATA_4</th>\n",
       "      <th>...</th>\n",
       "      <th>ACTIVITY_DATA_6</th>\n",
       "      <th>ACTIVITY_DATA_7</th>\n",
       "      <th>ACTIVITY_DATA_8</th>\n",
       "      <th>ACTIVITY_DATA_9</th>\n",
       "      <th>ACTIVITY_DATA_10</th>\n",
       "      <th>ACTIVITY_DATA_26</th>\n",
       "      <th>ACTIVITY_DATA_27</th>\n",
       "      <th>ACTIVITY_DATA_28</th>\n",
       "      <th>ACTIVITY_DATA_29</th>\n",
       "      <th>ACTIVITY_DATA_30</th>\n",
       "    </tr>\n",
       "  </thead>\n",
       "  <tbody>\n",
       "    <tr>\n",
       "      <th>0</th>\n",
       "      <td>BDoflNnPHog=</td>\n",
       "      <td>CA</td>\n",
       "      <td>ETT</td>\n",
       "      <td>2017-03-07 09:36:52</td>\n",
       "      <td>63955</td>\n",
       "      <td>P</td>\n",
       "      <td>Warnel May</td>\n",
       "      <td>Escobar</td>\n",
       "      <td>NaN</td>\n",
       "      <td>NaN</td>\n",
       "      <td>...</td>\n",
       "      <td>NaN</td>\n",
       "      <td>NaN</td>\n",
       "      <td>NaN</td>\n",
       "      <td>NaN</td>\n",
       "      <td>NaN</td>\n",
       "      <td>NaN</td>\n",
       "      <td>NaN</td>\n",
       "      <td>NaN</td>\n",
       "      <td>NaN</td>\n",
       "      <td>NaN</td>\n",
       "    </tr>\n",
       "    <tr>\n",
       "      <th>1</th>\n",
       "      <td>kudFmD%2ByF7w=</td>\n",
       "      <td>CAN</td>\n",
       "      <td>ETT</td>\n",
       "      <td>2017-03-06 15:05:34</td>\n",
       "      <td>63955</td>\n",
       "      <td>P</td>\n",
       "      <td>Warnel May</td>\n",
       "      <td>Escobar</td>\n",
       "      <td>NaN</td>\n",
       "      <td>NaN</td>\n",
       "      <td>...</td>\n",
       "      <td>NaN</td>\n",
       "      <td>NaN</td>\n",
       "      <td>NaN</td>\n",
       "      <td>NaN</td>\n",
       "      <td>NaN</td>\n",
       "      <td>NaN</td>\n",
       "      <td>NaN</td>\n",
       "      <td>NaN</td>\n",
       "      <td>NaN</td>\n",
       "      <td>NaN</td>\n",
       "    </tr>\n",
       "    <tr>\n",
       "      <th>2</th>\n",
       "      <td>r58OmfDBRm8=</td>\n",
       "      <td>CA</td>\n",
       "      <td>PET</td>\n",
       "      <td>2017-03-02 22:46:26</td>\n",
       "      <td>37410</td>\n",
       "      <td>P</td>\n",
       "      <td>NaN</td>\n",
       "      <td>NaN</td>\n",
       "      <td>NaN</td>\n",
       "      <td>NaN</td>\n",
       "      <td>...</td>\n",
       "      <td>NaN</td>\n",
       "      <td>NaN</td>\n",
       "      <td>NaN</td>\n",
       "      <td>NaN</td>\n",
       "      <td>NaN</td>\n",
       "      <td>NaN</td>\n",
       "      <td>NaN</td>\n",
       "      <td>NaN</td>\n",
       "      <td>NaN</td>\n",
       "      <td>NaN</td>\n",
       "    </tr>\n",
       "    <tr>\n",
       "      <th>3</th>\n",
       "      <td>ALJUUgR5fOs=</td>\n",
       "      <td>CAN</td>\n",
       "      <td>ETT</td>\n",
       "      <td>2017-03-20 16:15:17</td>\n",
       "      <td>66158</td>\n",
       "      <td>P</td>\n",
       "      <td>Christy</td>\n",
       "      <td>Clark</td>\n",
       "      <td>NaN</td>\n",
       "      <td>NaN</td>\n",
       "      <td>...</td>\n",
       "      <td>NaN</td>\n",
       "      <td>NaN</td>\n",
       "      <td>NaN</td>\n",
       "      <td>NaN</td>\n",
       "      <td>NaN</td>\n",
       "      <td>NaN</td>\n",
       "      <td>NaN</td>\n",
       "      <td>NaN</td>\n",
       "      <td>NaN</td>\n",
       "      <td>NaN</td>\n",
       "    </tr>\n",
       "    <tr>\n",
       "      <th>4</th>\n",
       "      <td>nEgT0q6l4MY=</td>\n",
       "      <td>CAN</td>\n",
       "      <td>ETT</td>\n",
       "      <td>2017-03-06 19:15:09</td>\n",
       "      <td>63955</td>\n",
       "      <td>P</td>\n",
       "      <td>Warnel May</td>\n",
       "      <td>Escobar</td>\n",
       "      <td>NaN</td>\n",
       "      <td>NaN</td>\n",
       "      <td>...</td>\n",
       "      <td>NaN</td>\n",
       "      <td>NaN</td>\n",
       "      <td>NaN</td>\n",
       "      <td>NaN</td>\n",
       "      <td>NaN</td>\n",
       "      <td>NaN</td>\n",
       "      <td>NaN</td>\n",
       "      <td>NaN</td>\n",
       "      <td>NaN</td>\n",
       "      <td>NaN</td>\n",
       "    </tr>\n",
       "  </tbody>\n",
       "</table>\n",
       "<p>5 rows × 21 columns</p>\n",
       "</div>"
      ],
      "text/plain": [
       "     SUPPORTER_ID COUNTRY ACTIVITY_TYPE    ACTIVITY_DATETIME  ACTIVITY_ID  \\\n",
       "0    BDoflNnPHog=      CA           ETT  2017-03-07 09:36:52        63955   \n",
       "1  kudFmD%2ByF7w=     CAN           ETT  2017-03-06 15:05:34        63955   \n",
       "2    r58OmfDBRm8=      CA           PET  2017-03-02 22:46:26        37410   \n",
       "3    ALJUUgR5fOs=     CAN           ETT  2017-03-20 16:15:17        66158   \n",
       "4    nEgT0q6l4MY=     CAN           ETT  2017-03-06 19:15:09        63955   \n",
       "\n",
       "  ACTIVITY_STATUS ACTIVITY_DATA_1 ACTIVITY_DATA_2 ACTIVITY_DATA_3  \\\n",
       "0               P      Warnel May         Escobar             NaN   \n",
       "1               P      Warnel May         Escobar             NaN   \n",
       "2               P             NaN             NaN             NaN   \n",
       "3               P         Christy           Clark             NaN   \n",
       "4               P      Warnel May         Escobar             NaN   \n",
       "\n",
       "  ACTIVITY_DATA_4  ... ACTIVITY_DATA_6 ACTIVITY_DATA_7 ACTIVITY_DATA_8  \\\n",
       "0             NaN  ...             NaN             NaN             NaN   \n",
       "1             NaN  ...             NaN             NaN             NaN   \n",
       "2             NaN  ...             NaN             NaN             NaN   \n",
       "3             NaN  ...             NaN             NaN             NaN   \n",
       "4             NaN  ...             NaN             NaN             NaN   \n",
       "\n",
       "   ACTIVITY_DATA_9 ACTIVITY_DATA_10 ACTIVITY_DATA_26  ACTIVITY_DATA_27  \\\n",
       "0              NaN              NaN              NaN               NaN   \n",
       "1              NaN              NaN              NaN               NaN   \n",
       "2              NaN              NaN              NaN               NaN   \n",
       "3              NaN              NaN              NaN               NaN   \n",
       "4              NaN              NaN              NaN               NaN   \n",
       "\n",
       "   ACTIVITY_DATA_28  ACTIVITY_DATA_29  ACTIVITY_DATA_30  \n",
       "0               NaN               NaN               NaN  \n",
       "1               NaN               NaN               NaN  \n",
       "2               NaN               NaN               NaN  \n",
       "3               NaN               NaN               NaN  \n",
       "4               NaN               NaN               NaN  \n",
       "\n",
       "[5 rows x 21 columns]"
      ]
     },
     "execution_count": 35,
     "metadata": {},
     "output_type": "execute_result"
    }
   ],
   "source": [
    "months = [march, april, may]\n",
    "allmonths = pd.concat(months)\n",
    "allmonths.head()"
   ]
  },
  {
   "cell_type": "code",
   "execution_count": 36,
   "id": "311f82e9",
   "metadata": {},
   "outputs": [
    {
     "data": {
      "text/html": [
       "<div>\n",
       "<style scoped>\n",
       "    .dataframe tbody tr th:only-of-type {\n",
       "        vertical-align: middle;\n",
       "    }\n",
       "\n",
       "    .dataframe tbody tr th {\n",
       "        vertical-align: top;\n",
       "    }\n",
       "\n",
       "    .dataframe thead th {\n",
       "        text-align: right;\n",
       "    }\n",
       "</style>\n",
       "<table border=\"1\" class=\"dataframe\">\n",
       "  <thead>\n",
       "    <tr style=\"text-align: right;\">\n",
       "      <th></th>\n",
       "      <th>SUPPORTER_ID</th>\n",
       "      <th>COUNTRY</th>\n",
       "      <th>ACTIVITY_DATETIME</th>\n",
       "      <th>ACTIVITY_ID</th>\n",
       "      <th>ACTIVITY_STATUS</th>\n",
       "      <th>ACTIVITY_DATA_1</th>\n",
       "      <th>ACTIVITY_DATA_2</th>\n",
       "      <th>ACTIVITY_DATA_3</th>\n",
       "      <th>ACTIVITY_DATA_4</th>\n",
       "      <th>ACTIVITY_DATA_5</th>\n",
       "      <th>ACTIVITY_DATA_6</th>\n",
       "      <th>ACTIVITY_DATA_7</th>\n",
       "      <th>ACTIVITY_DATA_8</th>\n",
       "      <th>ACTIVITY_DATA_9</th>\n",
       "      <th>ACTIVITY_DATA_10</th>\n",
       "      <th>ACTIVITY_DATA_26</th>\n",
       "      <th>ACTIVITY_DATA_27</th>\n",
       "      <th>ACTIVITY_DATA_28</th>\n",
       "      <th>ACTIVITY_DATA_29</th>\n",
       "      <th>ACTIVITY_DATA_30</th>\n",
       "    </tr>\n",
       "    <tr>\n",
       "      <th>ACTIVITY_TYPE</th>\n",
       "      <th></th>\n",
       "      <th></th>\n",
       "      <th></th>\n",
       "      <th></th>\n",
       "      <th></th>\n",
       "      <th></th>\n",
       "      <th></th>\n",
       "      <th></th>\n",
       "      <th></th>\n",
       "      <th></th>\n",
       "      <th></th>\n",
       "      <th></th>\n",
       "      <th></th>\n",
       "      <th></th>\n",
       "      <th></th>\n",
       "      <th></th>\n",
       "      <th></th>\n",
       "      <th></th>\n",
       "      <th></th>\n",
       "      <th></th>\n",
       "    </tr>\n",
       "  </thead>\n",
       "  <tbody>\n",
       "    <tr>\n",
       "      <th>FCS</th>\n",
       "      <td>26971</td>\n",
       "      <td>26971</td>\n",
       "      <td>26971</td>\n",
       "      <td>26971</td>\n",
       "      <td>26971</td>\n",
       "      <td>26971</td>\n",
       "      <td>26971</td>\n",
       "      <td>621</td>\n",
       "      <td>26971</td>\n",
       "      <td>26971</td>\n",
       "      <td>26971</td>\n",
       "      <td>26971</td>\n",
       "      <td>0</td>\n",
       "      <td>0</td>\n",
       "      <td>0</td>\n",
       "      <td>26971</td>\n",
       "      <td>26971</td>\n",
       "      <td>26971</td>\n",
       "      <td>26971</td>\n",
       "      <td>26971</td>\n",
       "    </tr>\n",
       "    <tr>\n",
       "      <th>FUR</th>\n",
       "      <td>188</td>\n",
       "      <td>188</td>\n",
       "      <td>188</td>\n",
       "      <td>188</td>\n",
       "      <td>188</td>\n",
       "      <td>188</td>\n",
       "      <td>188</td>\n",
       "      <td>66</td>\n",
       "      <td>188</td>\n",
       "      <td>188</td>\n",
       "      <td>188</td>\n",
       "      <td>188</td>\n",
       "      <td>188</td>\n",
       "      <td>188</td>\n",
       "      <td>188</td>\n",
       "      <td>188</td>\n",
       "      <td>188</td>\n",
       "      <td>188</td>\n",
       "      <td>188</td>\n",
       "      <td>188</td>\n",
       "    </tr>\n",
       "  </tbody>\n",
       "</table>\n",
       "</div>"
      ],
      "text/plain": [
       "               SUPPORTER_ID  COUNTRY  ACTIVITY_DATETIME  ACTIVITY_ID  \\\n",
       "ACTIVITY_TYPE                                                          \n",
       "FCS                   26971    26971              26971        26971   \n",
       "FUR                     188      188                188          188   \n",
       "\n",
       "               ACTIVITY_STATUS  ACTIVITY_DATA_1  ACTIVITY_DATA_2  \\\n",
       "ACTIVITY_TYPE                                                      \n",
       "FCS                      26971            26971            26971   \n",
       "FUR                        188              188              188   \n",
       "\n",
       "               ACTIVITY_DATA_3  ACTIVITY_DATA_4  ACTIVITY_DATA_5  \\\n",
       "ACTIVITY_TYPE                                                      \n",
       "FCS                        621            26971            26971   \n",
       "FUR                         66              188              188   \n",
       "\n",
       "               ACTIVITY_DATA_6  ACTIVITY_DATA_7  ACTIVITY_DATA_8  \\\n",
       "ACTIVITY_TYPE                                                      \n",
       "FCS                      26971            26971                0   \n",
       "FUR                        188              188              188   \n",
       "\n",
       "               ACTIVITY_DATA_9  ACTIVITY_DATA_10  ACTIVITY_DATA_26  \\\n",
       "ACTIVITY_TYPE                                                        \n",
       "FCS                          0                 0             26971   \n",
       "FUR                        188               188               188   \n",
       "\n",
       "               ACTIVITY_DATA_27  ACTIVITY_DATA_28  ACTIVITY_DATA_29  \\\n",
       "ACTIVITY_TYPE                                                         \n",
       "FCS                       26971             26971             26971   \n",
       "FUR                         188               188               188   \n",
       "\n",
       "               ACTIVITY_DATA_30  \n",
       "ACTIVITY_TYPE                    \n",
       "FCS                       26971  \n",
       "FUR                         188  "
      ]
     },
     "execution_count": 36,
     "metadata": {},
     "output_type": "execute_result"
    }
   ],
   "source": [
    "#Getting just FUR and FCS data\n",
    "filtered= allmonths[(allmonths['ACTIVITY_TYPE'] == \"FUR\") | (allmonths['ACTIVITY_TYPE'] == \"FCS\")]\n",
    "filteredgroup=filtered.groupby(\"ACTIVITY_TYPE\").count()\n",
    "filteredgroup"
   ]
  },
  {
   "cell_type": "code",
   "execution_count": 37,
   "id": "ab78f2c8",
   "metadata": {},
   "outputs": [
    {
     "data": {
      "text/plain": [
       "success    25072\n",
       "pending     1275\n",
       "reject       621\n",
       "refund         3\n",
       "Name: ACTIVITY_STATUS, dtype: int64"
      ]
     },
     "execution_count": 37,
     "metadata": {},
     "output_type": "execute_result"
    }
   ],
   "source": [
    "#Split into FCS and FUR\n",
    "FCS = filtered[filtered['ACTIVITY_TYPE']=='FCS']\n",
    "FUR = filtered[filtered['ACTIVITY_TYPE']=='FUR']\n",
    "FCS.ACTIVITY_STATUS.value_counts()"
   ]
  },
  {
   "cell_type": "code",
   "execution_count": 38,
   "id": "e1353fc2",
   "metadata": {},
   "outputs": [
    {
     "data": {
      "text/plain": [
       "success    122\n",
       "reject      66\n",
       "Name: ACTIVITY_STATUS, dtype: int64"
      ]
     },
     "execution_count": 38,
     "metadata": {},
     "output_type": "execute_result"
    }
   ],
   "source": [
    "FUR.ACTIVITY_STATUS.value_counts()"
   ]
  },
  {
   "cell_type": "code",
   "execution_count": 39,
   "id": "4c3ccb3d",
   "metadata": {},
   "outputs": [
    {
     "data": {
      "text/plain": [
       "count    26971.000000\n",
       "mean        32.281319\n",
       "std         58.041106\n",
       "min          0.000000\n",
       "25%         12.160000\n",
       "50%         25.000000\n",
       "75%         35.000000\n",
       "max       4000.000000\n",
       "Name: ACTIVITY_DATA_26, dtype: float64"
      ]
     },
     "execution_count": 39,
     "metadata": {},
     "output_type": "execute_result"
    }
   ],
   "source": [
    "#Single Contributions Summary Statistics in GBP\n",
    "FCS.ACTIVITY_DATA_26.describe(include='all')"
   ]
  },
  {
   "cell_type": "code",
   "execution_count": 40,
   "id": "757dba06",
   "metadata": {},
   "outputs": [
    {
     "data": {
      "text/plain": [
       "count    188.000000\n",
       "mean       5.742766\n",
       "std        6.157821\n",
       "min        0.000000\n",
       "25%        0.000000\n",
       "50%        6.170000\n",
       "75%        6.490000\n",
       "max       37.410000\n",
       "Name: ACTIVITY_DATA_26, dtype: float64"
      ]
     },
     "execution_count": 40,
     "metadata": {},
     "output_type": "execute_result"
    }
   ],
   "source": [
    "#Recurring Contributions Summary Statistics in GBP\n",
    "FUR.ACTIVITY_DATA_26.describe(include='all')"
   ]
  },
  {
   "cell_type": "markdown",
   "id": "160098bd",
   "metadata": {},
   "source": [
    "### Most Valuable Supporters"
   ]
  },
  {
   "cell_type": "code",
   "execution_count": 41,
   "id": "82f5392a",
   "metadata": {},
   "outputs": [
    {
     "name": "stdout",
     "output_type": "stream",
     "text": [
      "Highest Donation Total (GBP) by Single Contributions from a Single Supporter\n"
     ]
    },
    {
     "data": {
      "text/plain": [
       "[4000.0, 'elcE4OOjyDiZkArzVWMSmA==']"
      ]
     },
     "execution_count": 41,
     "metadata": {},
     "output_type": "execute_result"
    }
   ],
   "source": [
    "editFCS= FCS.drop(FCS[FCS['ACTIVITY_STATUS'] == 'reject'].index)\n",
    "totalFCS=editFCS.groupby(['SUPPORTER_ID'])['ACTIVITY_DATA_26'].apply(lambda x : x.astype(float).sum())\n",
    "maxvalues= totalFCS.max()\n",
    "idxmaxvalues =totalFCS.idxmax()\n",
    "print(\"Highest Donation Total (GBP) by Single Contributions from a Single Supporter\")\n",
    "[maxvalues, idxmaxvalues]"
   ]
  },
  {
   "cell_type": "code",
   "execution_count": 42,
   "id": "727097b7",
   "metadata": {},
   "outputs": [],
   "source": [
    "#editFCS[editFCS['SUPPORTER_ID'] == 'elcE4OOjyDiZkArzVWMSmA=='] \n",
    "##4000 from single donation"
   ]
  },
  {
   "cell_type": "code",
   "execution_count": 43,
   "id": "4eabcc69",
   "metadata": {},
   "outputs": [
    {
     "name": "stdout",
     "output_type": "stream",
     "text": [
      "Supporter with Most Single Contributions:\n",
      "fa1rLIqTJOAqJI2ZMf1z3w==\n",
      "\n",
      "Number of contributions: 32\n"
     ]
    }
   ],
   "source": [
    "#Highest # of Single Contributions Supporter\n",
    "editFCS['SUPPORTER_ID'].mode()\n",
    "print('Supporter with Most Single Contributions:')\n",
    "print(str(editFCS['SUPPORTER_ID'].mode()[0]) + '\\n')\n",
    "print('Number of contributions: ' + str(max(editFCS['SUPPORTER_ID'].value_counts())))"
   ]
  },
  {
   "cell_type": "code",
   "execution_count": 44,
   "id": "8ae2f801",
   "metadata": {},
   "outputs": [
    {
     "name": "stdout",
     "output_type": "stream",
     "text": [
      "Highest Recurring Contributions (GBP) from a Single Supporter\n"
     ]
    },
    {
     "data": {
      "text/plain": [
       "[37.41, 'jg6Uj%2Fymmk%2Bha0eWUOvjsw==']"
      ]
     },
     "execution_count": 44,
     "metadata": {},
     "output_type": "execute_result"
    }
   ],
   "source": [
    "#Highest Recurring donation amount\n",
    "editFUR= FUR.drop(FUR[FUR['ACTIVITY_STATUS'] == 'reject'].index)\n",
    "totalFUR=editFUR.groupby(['SUPPORTER_ID'])['ACTIVITY_DATA_26'].apply(lambda x : x.astype(float).sum())\n",
    "maxvalues= totalFUR.max()\n",
    "idxmaxvalues =totalFUR.idxmax()\n",
    "print(\"Highest Recurring Contributions (GBP) from a Single Supporter\")\n",
    "[maxvalues, idxmaxvalues]"
   ]
  },
  {
   "cell_type": "markdown",
   "id": "34be8482",
   "metadata": {},
   "source": [
    "### Histograms of FCS and FUR Donations"
   ]
  },
  {
   "cell_type": "code",
   "execution_count": 45,
   "id": "1312cb50",
   "metadata": {},
   "outputs": [
    {
     "name": "stderr",
     "output_type": "stream",
     "text": [
      "C:\\Users\\james\\AppData\\Local\\Temp\\ipykernel_824\\724434396.py:2: DeprecationWarning: the `interpolation=` argument to percentile was renamed to `method=`, which has additional options.\n",
      "Users of the modes 'nearest', 'lower', 'higher', or 'midpoint' are encouraged to review the method they. (Deprecated NumPy 1.22)\n",
      "  Q1 = np.percentile(editFCS['ACTIVITY_DATA_26'], 25,\n",
      "C:\\Users\\james\\AppData\\Local\\Temp\\ipykernel_824\\724434396.py:5: DeprecationWarning: the `interpolation=` argument to percentile was renamed to `method=`, which has additional options.\n",
      "Users of the modes 'nearest', 'lower', 'higher', or 'midpoint' are encouraged to review the method they. (Deprecated NumPy 1.22)\n",
      "  Q3 = np.percentile(editFCS['ACTIVITY_DATA_26'], 75,\n"
     ]
    },
    {
     "data": {
      "text/plain": [
       "Text(0, 0.5, 'Frequency')"
      ]
     },
     "execution_count": 45,
     "metadata": {},
     "output_type": "execute_result"
    },
    {
     "data": {
      "image/png": "[encoded data removed]",
      "text/plain": [
       "<Figure size 432x288 with 1 Axes>"
      ]
     },
     "metadata": {
      "needs_background": "light"
     },
     "output_type": "display_data"
    }
   ],
   "source": [
    "#Find IQR and remove outliers of donations\n",
    "Q1 = np.percentile(editFCS['ACTIVITY_DATA_26'], 25,\n",
    "                   interpolation = 'midpoint')\n",
    " \n",
    "Q3 = np.percentile(editFCS['ACTIVITY_DATA_26'], 75,\n",
    "                   interpolation = 'midpoint')\n",
    "iqr = Q3 - Q1\n",
    "cut_off = iqr * 1.5\n",
    "lower, upper = Q1 - cut_off, Q3 + cut_off\n",
    "#print(len(filtered[filtered['ACTIVITY_DATA_26'] <lower])) #0\n",
    "#print(len(filtered[filtered['ACTIVITY_DATA_26'] > upper])) #1977\n",
    "\n",
    "editFCSiqr = editFCS[(editFCS['ACTIVITY_DATA_26'] > lower) & \n",
    "                       (editFCS['ACTIVITY_DATA_26'] < upper)]\n",
    "#print(len(filterediqr)) #25182\n",
    "editFCSiqr.hist('ACTIVITY_DATA_26')\n",
    "plt.title('Distribution of Single Donations March-May')\n",
    "plt.xlabel('Single Donation Amount (GBP)')\n",
    "plt.ylabel('Frequency')\n",
    "#multi-modal, seems like 10-20 and 35-40 are the most popular amounts"
   ]
  },
  {
   "cell_type": "code",
   "execution_count": 46,
   "id": "517ed02c",
   "metadata": {},
   "outputs": [
    {
     "name": "stderr",
     "output_type": "stream",
     "text": [
      "C:\\Users\\james\\AppData\\Local\\Temp\\ipykernel_824\\1596334974.py:2: DeprecationWarning: the `interpolation=` argument to percentile was renamed to `method=`, which has additional options.\n",
      "Users of the modes 'nearest', 'lower', 'higher', or 'midpoint' are encouraged to review the method they. (Deprecated NumPy 1.22)\n",
      "  Q1 = np.percentile(editFUR['ACTIVITY_DATA_26'], 25,\n",
      "C:\\Users\\james\\AppData\\Local\\Temp\\ipykernel_824\\1596334974.py:5: DeprecationWarning: the `interpolation=` argument to percentile was renamed to `method=`, which has additional options.\n",
      "Users of the modes 'nearest', 'lower', 'higher', or 'midpoint' are encouraged to review the method they. (Deprecated NumPy 1.22)\n",
      "  Q3 = np.percentile(editFUR['ACTIVITY_DATA_26'], 75,\n"
     ]
    },
    {
     "data": {
      "text/plain": [
       "Text(0, 0.5, 'Frequency')"
      ]
     },
     "execution_count": 46,
     "metadata": {},
     "output_type": "execute_result"
    },
    {
     "data": {
      "image/png": "[encoded data removed]",
      "text/plain": [
       "<Figure size 432x288 with 1 Axes>"
      ]
     },
     "metadata": {
      "needs_background": "light"
     },
     "output_type": "display_data"
    }
   ],
   "source": [
    "#Find IQR and remove outliers of donations\n",
    "Q1 = np.percentile(editFUR['ACTIVITY_DATA_26'], 25,\n",
    "                   interpolation = 'midpoint')\n",
    " \n",
    "Q3 = np.percentile(editFUR['ACTIVITY_DATA_26'], 75,\n",
    "                   interpolation = 'midpoint')\n",
    "iqr = Q3 - Q1\n",
    "cut_off = iqr * 1.5\n",
    "lower, upper = Q1 - cut_off, Q3 + cut_off\n",
    "\n",
    "editFURiqr = editFUR[(editFUR['ACTIVITY_DATA_26'] > lower) & \n",
    "                       (editFUR['ACTIVITY_DATA_26'] < upper)]\n",
    "\n",
    "editFURiqr.hist('ACTIVITY_DATA_26')\n",
    "plt.title('Distribution of Recurring Donations March-May')\n",
    "plt.xlabel('Recurring Donation Amount (GBP)')\n",
    "plt.ylabel('Frequency')\n",
    "#right-skewed, only 122 data points not inc. outliers removed, so need more data "
   ]
  },
  {
   "cell_type": "markdown",
   "id": "ec3aecf6",
   "metadata": {},
   "source": [
    "### Boxplot for FCS/FUR Donation Amounts"
   ]
  },
  {
   "cell_type": "code",
   "execution_count": 47,
   "id": "71b4e25d",
   "metadata": {},
   "outputs": [
    {
     "data": {
      "text/plain": [
       "Text(0.5, 1.0, 'Recurring Donation Amount (GBP)')"
      ]
     },
     "execution_count": 47,
     "metadata": {},
     "output_type": "execute_result"
    },
    {
     "data": {
      "image/png": "[encoded data removed]",
      "text/plain": [
       "<Figure size 432x288 with 1 Axes>"
      ]
     },
     "metadata": {
      "needs_background": "light"
     },
     "output_type": "display_data"
    }
   ],
   "source": [
    "my_dict = {'FUR': editFURiqr.ACTIVITY_DATA_26, 'FCS': editFCSiqr.ACTIVITY_DATA_26}\n",
    "\n",
    "fig, ax = plt.subplots()\n",
    "ax.boxplot(my_dict.values())\n",
    "ax.set_xticklabels(my_dict.keys())\n",
    "ax.set_title('Recurring Donation Amount (GBP)')\n",
    "#avg single donations are more than double avg recurring "
   ]
  }
 ],
 "metadata": {
  "kernelspec": {
   "display_name": "Python 3 (ipykernel)",
   "language": "python",
   "name": "python3"
  },
  "language_info": {
   "codemirror_mode": {
    "name": "ipython",
    "version": 3
   },
   "file_extension": ".py",
   "mimetype": "text/x-python",
   "name": "python",
   "nbconvert_exporter": "python",
   "pygments_lexer": "ipython3",
   "version": "3.8.13"
  }
 },
 "nbformat": 4,
 "nbformat_minor": 5
}
